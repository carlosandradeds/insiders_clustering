{
 "cells": [
  {
   "cell_type": "markdown",
   "id": "d1251e23",
   "metadata": {
    "papermill": {
     "duration": 0.076952,
     "end_time": "2022-09-27T21:23:44.782010",
     "exception": false,
     "start_time": "2022-09-27T21:23:44.705058",
     "status": "completed"
    },
    "tags": []
   },
   "source": [
    "# 0.0 Imports"
   ]
  },
  {
   "cell_type": "code",
   "execution_count": 12,
   "id": "b74ebba2",
   "metadata": {
    "ExecuteTime": {
     "end_time": "2022-09-28T00:39:15.769622Z",
     "start_time": "2022-09-28T00:39:15.757629Z"
    },
    "execution": {
     "iopub.execute_input": "2022-09-27T21:23:44.903931Z",
     "iopub.status.busy": "2022-09-27T21:23:44.903931Z",
     "iopub.status.idle": "2022-09-27T21:23:55.306423Z",
     "shell.execute_reply": "2022-09-27T21:23:55.306423Z"
    },
    "papermill": {
     "duration": 10.467447,
     "end_time": "2022-09-27T21:23:55.309418",
     "exception": false,
     "start_time": "2022-09-27T21:23:44.841971",
     "status": "completed"
    },
    "tags": []
   },
   "outputs": [],
   "source": [
    "import numpy   as np\n",
    "import pandas  as pd\n",
    "import seaborn as sns\n",
    "import warnings\n",
    "import re\n",
    "\n",
    "\n",
    "import umap.umap_ as umap\n",
    "\n",
    "from IPython.display import HTML, Image\n",
    "from matplotlib import pyplot as plt\n",
    "\n",
    "from pandas_profiling import ProfileReport\n",
    "\n",
    "from sklearn            import cluster       as c\n",
    "from sklearn            import metrics       as m\n",
    "from sklearn            import preprocessing as pp\n",
    "from sklearn            import decomposition as dd\n",
    "from sklearn.manifold   import TSNE\n",
    "from sklearn            import manifold      as mn\n",
    "from sklearn            import ensemble      as en\n",
    "from sklearn            import mixture       as mx\n",
    "\n",
    "from plotly import express as px\n",
    "\n",
    "from yellowbrick.cluster import KElbowVisualizer, SilhouetteVisualizer\n",
    "\n",
    "warnings.simplefilter(\"ignore\")"
   ]
  },
  {
   "cell_type": "markdown",
   "id": "dc2696d4",
   "metadata": {
    "papermill": {
     "duration": 0.059959,
     "end_time": "2022-09-27T21:23:55.716155",
     "exception": false,
     "start_time": "2022-09-27T21:23:55.656196",
     "status": "completed"
    },
    "tags": []
   },
   "source": [
    "## 0.2 Load DataSet"
   ]
  },
  {
   "cell_type": "code",
   "execution_count": 18,
   "id": "2189faaa",
   "metadata": {
    "ExecuteTime": {
     "end_time": "2022-09-28T00:54:38.447810Z",
     "start_time": "2022-09-28T00:52:42.748870Z"
    },
    "execution": {
     "iopub.execute_input": "2022-09-27T21:23:55.837706Z",
     "iopub.status.busy": "2022-09-27T21:23:55.837706Z",
     "iopub.status.idle": "2022-09-27T21:23:56.647098Z",
     "shell.execute_reply": "2022-09-27T21:23:56.646191Z"
    },
    "papermill": {
     "duration": 0.872362,
     "end_time": "2022-09-27T21:23:56.649101",
     "exception": false,
     "start_time": "2022-09-27T21:23:55.776739",
     "status": "completed"
    },
    "tags": []
   },
   "outputs": [],
   "source": [
    "path_s3 = 's3://insiders-dataset-kaka/'\n",
    "\n",
    "# load data\n",
    "df_raw = pd.read_csv( 's3://insiders-dataset-kaka/Ecommerce.csv', encoding='unicode_escape' )"
   ]
  },
  {
   "cell_type": "markdown",
   "id": "c4e4884f",
   "metadata": {
    "papermill": {
     "duration": 0.059959,
     "end_time": "2022-09-27T21:23:56.769023",
     "exception": false,
     "start_time": "2022-09-27T21:23:56.709064",
     "status": "completed"
    },
    "tags": []
   },
   "source": [
    "# 1.0 Descrição dos Dados"
   ]
  },
  {
   "cell_type": "code",
   "execution_count": 20,
   "id": "6662e8d3",
   "metadata": {
    "ExecuteTime": {
     "end_time": "2022-09-28T00:54:47.118329Z",
     "start_time": "2022-09-28T00:54:47.087350Z"
    },
    "execution": {
     "iopub.execute_input": "2022-09-27T21:23:56.891658Z",
     "iopub.status.busy": "2022-09-27T21:23:56.890660Z",
     "iopub.status.idle": "2022-09-27T21:23:56.913550Z",
     "shell.execute_reply": "2022-09-27T21:23:56.912547Z"
    },
    "papermill": {
     "duration": 0.085856,
     "end_time": "2022-09-27T21:23:56.915549",
     "exception": false,
     "start_time": "2022-09-27T21:23:56.829693",
     "status": "completed"
    },
    "tags": []
   },
   "outputs": [],
   "source": [
    "df1 = df_raw.copy()"
   ]
  },
  {
   "cell_type": "markdown",
   "id": "6db31adc",
   "metadata": {
    "papermill": {
     "duration": 0.059966,
     "end_time": "2022-09-27T21:23:57.036527",
     "exception": false,
     "start_time": "2022-09-27T21:23:56.976561",
     "status": "completed"
    },
    "tags": []
   },
   "source": [
    "## 1.1 Rename Columns"
   ]
  },
  {
   "cell_type": "code",
   "execution_count": 5,
   "id": "f66f2074",
   "metadata": {
    "ExecuteTime": {
     "end_time": "2022-09-27T11:47:47.834223Z",
     "start_time": "2022-09-27T11:47:47.820231Z"
    },
    "execution": {
     "iopub.execute_input": "2022-09-27T21:23:57.157450Z",
     "iopub.status.busy": "2022-09-27T21:23:57.157450Z",
     "iopub.status.idle": "2022-09-27T21:23:57.174167Z",
     "shell.execute_reply": "2022-09-27T21:23:57.173512Z"
    },
    "papermill": {
     "duration": 0.079681,
     "end_time": "2022-09-27T21:23:57.176170",
     "exception": false,
     "start_time": "2022-09-27T21:23:57.096489",
     "status": "completed"
    },
    "tags": []
   },
   "outputs": [],
   "source": [
    "cols_new = ['invoice_no', 'stock_code', 'description', 'quantity', 'invoice_date', 'unit_price', 'customer_id', 'country']\n",
    "df1.columns = cols_new"
   ]
  },
  {
   "cell_type": "markdown",
   "id": "5ec079b2",
   "metadata": {
    "papermill": {
     "duration": 0.059953,
     "end_time": "2022-09-27T21:23:57.296093",
     "exception": false,
     "start_time": "2022-09-27T21:23:57.236140",
     "status": "completed"
    },
    "tags": []
   },
   "source": [
    "## 1.2 Data dimensions"
   ]
  },
  {
   "cell_type": "code",
   "execution_count": 6,
   "id": "1c7ff877",
   "metadata": {
    "ExecuteTime": {
     "end_time": "2022-09-27T11:47:47.850214Z",
     "start_time": "2022-09-27T11:47:47.836222Z"
    },
    "execution": {
     "iopub.execute_input": "2022-09-27T21:23:57.419015Z",
     "iopub.status.busy": "2022-09-27T21:23:57.419015Z",
     "iopub.status.idle": "2022-09-27T21:23:57.435030Z",
     "shell.execute_reply": "2022-09-27T21:23:57.434028Z"
    },
    "papermill": {
     "duration": 0.079972,
     "end_time": "2022-09-27T21:23:57.437029",
     "exception": false,
     "start_time": "2022-09-27T21:23:57.357057",
     "status": "completed"
    },
    "tags": []
   },
   "outputs": [
    {
     "name": "stdout",
     "output_type": "stream",
     "text": [
      "Number of rows: 541909\n",
      "Number of cols: 8\n"
     ]
    }
   ],
   "source": [
    "print( 'Number of rows: {}'.format( df1.shape[0] ) )\n",
    "print( 'Number of cols: {}'.format( df1.shape[1] ) )"
   ]
  },
  {
   "cell_type": "markdown",
   "id": "b58002c6",
   "metadata": {
    "papermill": {
     "duration": 0.059962,
     "end_time": "2022-09-27T21:23:57.556954",
     "exception": false,
     "start_time": "2022-09-27T21:23:57.496992",
     "status": "completed"
    },
    "tags": []
   },
   "source": [
    "## 1.3 Data Types"
   ]
  },
  {
   "cell_type": "code",
   "execution_count": 7,
   "id": "40643922",
   "metadata": {
    "ExecuteTime": {
     "end_time": "2022-09-27T11:47:47.866205Z",
     "start_time": "2022-09-27T11:47:47.853213Z"
    },
    "execution": {
     "iopub.execute_input": "2022-09-27T21:23:57.678876Z",
     "iopub.status.busy": "2022-09-27T21:23:57.678876Z",
     "iopub.status.idle": "2022-09-27T21:23:57.687871Z",
     "shell.execute_reply": "2022-09-27T21:23:57.687871Z"
    },
    "papermill": {
     "duration": 0.073951,
     "end_time": "2022-09-27T21:23:57.690867",
     "exception": false,
     "start_time": "2022-09-27T21:23:57.616916",
     "status": "completed"
    },
    "tags": []
   },
   "outputs": [
    {
     "data": {
      "text/plain": [
       "invoice_no       object\n",
       "stock_code       object\n",
       "description      object\n",
       "quantity          int64\n",
       "invoice_date     object\n",
       "unit_price      float64\n",
       "customer_id     float64\n",
       "country          object\n",
       "dtype: object"
      ]
     },
     "execution_count": 7,
     "metadata": {},
     "output_type": "execute_result"
    }
   ],
   "source": [
    " df1.dtypes"
   ]
  },
  {
   "cell_type": "markdown",
   "id": "45be1298",
   "metadata": {
    "papermill": {
     "duration": 0.059961,
     "end_time": "2022-09-27T21:23:57.810791",
     "exception": false,
     "start_time": "2022-09-27T21:23:57.750830",
     "status": "completed"
    },
    "tags": []
   },
   "source": [
    "## 1.4 Check NA"
   ]
  },
  {
   "cell_type": "code",
   "execution_count": 8,
   "id": "6cc936d2",
   "metadata": {
    "ExecuteTime": {
     "end_time": "2022-09-27T11:47:48.544461Z",
     "start_time": "2022-09-27T11:47:48.125695Z"
    },
    "execution": {
     "iopub.execute_input": "2022-09-27T21:23:57.934711Z",
     "iopub.status.busy": "2022-09-27T21:23:57.934711Z",
     "iopub.status.idle": "2022-09-27T21:23:58.337474Z",
     "shell.execute_reply": "2022-09-27T21:23:58.337474Z"
    },
    "papermill": {
     "duration": 0.469716,
     "end_time": "2022-09-27T21:23:58.340467",
     "exception": false,
     "start_time": "2022-09-27T21:23:57.870751",
     "status": "completed"
    },
    "tags": []
   },
   "outputs": [
    {
     "data": {
      "text/plain": [
       "invoice_no           0\n",
       "stock_code           0\n",
       "description       1454\n",
       "quantity             0\n",
       "invoice_date         0\n",
       "unit_price           0\n",
       "customer_id     135080\n",
       "country              0\n",
       "dtype: int64"
      ]
     },
     "execution_count": 8,
     "metadata": {},
     "output_type": "execute_result"
    }
   ],
   "source": [
    "df1.isna().sum()"
   ]
  },
  {
   "cell_type": "markdown",
   "id": "0cb585ed",
   "metadata": {
    "papermill": {
     "duration": 0.061962,
     "end_time": "2022-09-27T21:23:58.463390",
     "exception": false,
     "start_time": "2022-09-27T21:23:58.401428",
     "status": "completed"
    },
    "tags": []
   },
   "source": [
    "## 1.5 Replace NA"
   ]
  },
  {
   "cell_type": "code",
   "execution_count": 9,
   "id": "f4a58381",
   "metadata": {
    "ExecuteTime": {
     "end_time": "2022-09-27T11:47:48.668655Z",
     "start_time": "2022-09-27T11:47:48.604691Z"
    },
    "execution": {
     "iopub.execute_input": "2022-09-27T21:23:58.587311Z",
     "iopub.status.busy": "2022-09-27T21:23:58.587311Z",
     "iopub.status.idle": "2022-09-27T21:23:58.644719Z",
     "shell.execute_reply": "2022-09-27T21:23:58.644719Z"
    },
    "papermill": {
     "duration": 0.123373,
     "end_time": "2022-09-27T21:23:58.647723",
     "exception": false,
     "start_time": "2022-09-27T21:23:58.524350",
     "status": "completed"
    },
    "tags": []
   },
   "outputs": [],
   "source": [
    "df_missing = df1.loc[df1['customer_id'].isna(), :]\n",
    "df_not_missing = df1.loc[~df1['customer_id'].isna(), :]"
   ]
  },
  {
   "cell_type": "code",
   "execution_count": 10,
   "id": "9858345e",
   "metadata": {
    "ExecuteTime": {
     "end_time": "2022-09-27T11:47:49.138752Z",
     "start_time": "2022-09-27T11:47:48.804684Z"
    },
    "execution": {
     "iopub.execute_input": "2022-09-27T21:23:58.769643Z",
     "iopub.status.busy": "2022-09-27T21:23:58.769643Z",
     "iopub.status.idle": "2022-09-27T21:23:59.074483Z",
     "shell.execute_reply": "2022-09-27T21:23:59.073488Z"
    },
    "papermill": {
     "duration": 0.367798,
     "end_time": "2022-09-27T21:23:59.076482",
     "exception": false,
     "start_time": "2022-09-27T21:23:58.708684",
     "status": "completed"
    },
    "tags": []
   },
   "outputs": [],
   "source": [
    " # create reference\n",
    "df_backup = pd.DataFrame( df_missing['invoice_no'].drop_duplicates() )\n",
    "df_backup['customer_id'] = np.arange( 19000, 19000+len( df_backup ), 1)\n",
    "\n",
    "# merge original with reference dataframe\n",
    "df1 = pd.merge( df1, df_backup, on='invoice_no', how='left' )\n",
    "\n",
    "# coalesce \n",
    "df1['customer_id'] = df1['customer_id_x'].combine_first( df1['customer_id_y'] )\n",
    "\n",
    "# drop extra columns\n",
    "df1 = df1.drop( columns=['customer_id_x', 'customer_id_y'], axis=1 )"
   ]
  },
  {
   "cell_type": "code",
   "execution_count": 11,
   "id": "e944a9be",
   "metadata": {
    "ExecuteTime": {
     "end_time": "2022-09-27T11:47:49.576509Z",
     "start_time": "2022-09-27T11:47:49.141750Z"
    },
    "execution": {
     "iopub.execute_input": "2022-09-27T21:23:59.199404Z",
     "iopub.status.busy": "2022-09-27T21:23:59.199404Z",
     "iopub.status.idle": "2022-09-27T21:23:59.608271Z",
     "shell.execute_reply": "2022-09-27T21:23:59.607264Z"
    },
    "papermill": {
     "duration": 0.473817,
     "end_time": "2022-09-27T21:23:59.610261",
     "exception": false,
     "start_time": "2022-09-27T21:23:59.136444",
     "status": "completed"
    },
    "tags": []
   },
   "outputs": [
    {
     "data": {
      "text/plain": [
       "invoice_no         0\n",
       "stock_code         0\n",
       "description     1454\n",
       "quantity           0\n",
       "invoice_date       0\n",
       "unit_price         0\n",
       "country            0\n",
       "customer_id        0\n",
       "dtype: int64"
      ]
     },
     "execution_count": 11,
     "metadata": {},
     "output_type": "execute_result"
    }
   ],
   "source": [
    "df1.isna().sum()"
   ]
  },
  {
   "cell_type": "markdown",
   "id": "a10382b3",
   "metadata": {
    "papermill": {
     "duration": 0.059961,
     "end_time": "2022-09-27T21:23:59.731182",
     "exception": false,
     "start_time": "2022-09-27T21:23:59.671221",
     "status": "completed"
    },
    "tags": []
   },
   "source": [
    "## 1.6 Change DTypes"
   ]
  },
  {
   "cell_type": "code",
   "execution_count": 12,
   "id": "276c2cf0",
   "metadata": {
    "ExecuteTime": {
     "end_time": "2022-09-27T11:47:50.008145Z",
     "start_time": "2022-09-27T11:47:49.579506Z"
    },
    "execution": {
     "iopub.execute_input": "2022-09-27T21:23:59.885084Z",
     "iopub.status.busy": "2022-09-27T21:23:59.885084Z",
     "iopub.status.idle": "2022-09-27T21:24:00.286871Z",
     "shell.execute_reply": "2022-09-27T21:24:00.285867Z"
    },
    "papermill": {
     "duration": 0.465735,
     "end_time": "2022-09-27T21:24:00.288860",
     "exception": false,
     "start_time": "2022-09-27T21:23:59.823125",
     "status": "completed"
    },
    "tags": []
   },
   "outputs": [
    {
     "data": {
      "text/html": [
       "<div>\n",
       "<style scoped>\n",
       "    .dataframe tbody tr th:only-of-type {\n",
       "        vertical-align: middle;\n",
       "    }\n",
       "\n",
       "    .dataframe tbody tr th {\n",
       "        vertical-align: top;\n",
       "    }\n",
       "\n",
       "    .dataframe thead th {\n",
       "        text-align: right;\n",
       "    }\n",
       "</style>\n",
       "<table border=\"1\" class=\"dataframe\">\n",
       "  <thead>\n",
       "    <tr style=\"text-align: right;\">\n",
       "      <th></th>\n",
       "      <th>invoice_no</th>\n",
       "      <th>stock_code</th>\n",
       "      <th>description</th>\n",
       "      <th>quantity</th>\n",
       "      <th>invoice_date</th>\n",
       "      <th>unit_price</th>\n",
       "      <th>country</th>\n",
       "      <th>customer_id</th>\n",
       "    </tr>\n",
       "  </thead>\n",
       "  <tbody>\n",
       "    <tr>\n",
       "      <th>0</th>\n",
       "      <td>536365</td>\n",
       "      <td>85123A</td>\n",
       "      <td>WHITE HANGING HEART T-LIGHT HOLDER</td>\n",
       "      <td>6</td>\n",
       "      <td>2010-12-01</td>\n",
       "      <td>2.55</td>\n",
       "      <td>United Kingdom</td>\n",
       "      <td>17850</td>\n",
       "    </tr>\n",
       "    <tr>\n",
       "      <th>1</th>\n",
       "      <td>536365</td>\n",
       "      <td>71053</td>\n",
       "      <td>WHITE METAL LANTERN</td>\n",
       "      <td>6</td>\n",
       "      <td>2010-12-01</td>\n",
       "      <td>3.39</td>\n",
       "      <td>United Kingdom</td>\n",
       "      <td>17850</td>\n",
       "    </tr>\n",
       "    <tr>\n",
       "      <th>2</th>\n",
       "      <td>536365</td>\n",
       "      <td>84406B</td>\n",
       "      <td>CREAM CUPID HEARTS COAT HANGER</td>\n",
       "      <td>8</td>\n",
       "      <td>2010-12-01</td>\n",
       "      <td>2.75</td>\n",
       "      <td>United Kingdom</td>\n",
       "      <td>17850</td>\n",
       "    </tr>\n",
       "    <tr>\n",
       "      <th>3</th>\n",
       "      <td>536365</td>\n",
       "      <td>84029G</td>\n",
       "      <td>KNITTED UNION FLAG HOT WATER BOTTLE</td>\n",
       "      <td>6</td>\n",
       "      <td>2010-12-01</td>\n",
       "      <td>3.39</td>\n",
       "      <td>United Kingdom</td>\n",
       "      <td>17850</td>\n",
       "    </tr>\n",
       "    <tr>\n",
       "      <th>4</th>\n",
       "      <td>536365</td>\n",
       "      <td>84029E</td>\n",
       "      <td>RED WOOLLY HOTTIE WHITE HEART.</td>\n",
       "      <td>6</td>\n",
       "      <td>2010-12-01</td>\n",
       "      <td>3.39</td>\n",
       "      <td>United Kingdom</td>\n",
       "      <td>17850</td>\n",
       "    </tr>\n",
       "  </tbody>\n",
       "</table>\n",
       "</div>"
      ],
      "text/plain": [
       "  invoice_no stock_code                          description  quantity invoice_date  unit_price         country  customer_id\n",
       "0     536365     85123A   WHITE HANGING HEART T-LIGHT HOLDER         6   2010-12-01        2.55  United Kingdom        17850\n",
       "1     536365      71053                  WHITE METAL LANTERN         6   2010-12-01        3.39  United Kingdom        17850\n",
       "2     536365     84406B       CREAM CUPID HEARTS COAT HANGER         8   2010-12-01        2.75  United Kingdom        17850\n",
       "3     536365     84029G  KNITTED UNION FLAG HOT WATER BOTTLE         6   2010-12-01        3.39  United Kingdom        17850\n",
       "4     536365     84029E       RED WOOLLY HOTTIE WHITE HEART.         6   2010-12-01        3.39  United Kingdom        17850"
      ]
     },
     "execution_count": 12,
     "metadata": {},
     "output_type": "execute_result"
    }
   ],
   "source": [
    "# invoice date\n",
    "df1['invoice_date'] = pd.to_datetime( df1['invoice_date'], infer_datetime_format=True ).dt.date\n",
    "# customer id\n",
    "df1['customer_id'] = df1['customer_id'].astype( 'int64' )\n",
    "df1.head()"
   ]
  },
  {
   "cell_type": "markdown",
   "id": "375d6060",
   "metadata": {
    "papermill": {
     "duration": 0.060961,
     "end_time": "2022-09-27T21:24:00.409784",
     "exception": false,
     "start_time": "2022-09-27T21:24:00.348823",
     "status": "completed"
    },
    "tags": []
   },
   "source": [
    "## 1.7 Descriptive Statistics"
   ]
  },
  {
   "cell_type": "code",
   "execution_count": 13,
   "id": "06e05e33",
   "metadata": {
    "ExecuteTime": {
     "end_time": "2022-09-27T11:47:50.024136Z",
     "start_time": "2022-09-27T11:47:50.011142Z"
    },
    "execution": {
     "iopub.execute_input": "2022-09-27T21:24:00.535703Z",
     "iopub.status.busy": "2022-09-27T21:24:00.534710Z",
     "iopub.status.idle": "2022-09-27T21:24:00.546804Z",
     "shell.execute_reply": "2022-09-27T21:24:00.546804Z"
    },
    "papermill": {
     "duration": 0.078064,
     "end_time": "2022-09-27T21:24:00.549808",
     "exception": false,
     "start_time": "2022-09-27T21:24:00.471744",
     "status": "completed"
    },
    "tags": []
   },
   "outputs": [],
   "source": [
    "num_attributes = df1.select_dtypes( include=['int64', 'float64'] )\n",
    "cat_attributes = df1.select_dtypes( exclude=['int64', 'float64', 'datetime64[ns]'] )"
   ]
  },
  {
   "cell_type": "markdown",
   "id": "bdc6d364",
   "metadata": {
    "papermill": {
     "duration": 0.060961,
     "end_time": "2022-09-27T21:24:00.670730",
     "exception": false,
     "start_time": "2022-09-27T21:24:00.609769",
     "status": "completed"
    },
    "tags": []
   },
   "source": [
    "### 1.7.1 Numerical Attributs"
   ]
  },
  {
   "cell_type": "code",
   "execution_count": 14,
   "id": "7678b695",
   "metadata": {
    "ExecuteTime": {
     "end_time": "2022-09-27T11:47:50.419722Z",
     "start_time": "2022-09-27T11:47:50.276800Z"
    },
    "execution": {
     "iopub.execute_input": "2022-09-27T21:24:00.794649Z",
     "iopub.status.busy": "2022-09-27T21:24:00.793651Z",
     "iopub.status.idle": "2022-09-27T21:24:00.929274Z",
     "shell.execute_reply": "2022-09-27T21:24:00.928410Z"
    },
    "papermill": {
     "duration": 0.199587,
     "end_time": "2022-09-27T21:24:00.931276",
     "exception": false,
     "start_time": "2022-09-27T21:24:00.731689",
     "status": "completed"
    },
    "tags": []
   },
   "outputs": [
    {
     "data": {
      "text/html": [
       "<div>\n",
       "<style scoped>\n",
       "    .dataframe tbody tr th:only-of-type {\n",
       "        vertical-align: middle;\n",
       "    }\n",
       "\n",
       "    .dataframe tbody tr th {\n",
       "        vertical-align: top;\n",
       "    }\n",
       "\n",
       "    .dataframe thead th {\n",
       "        text-align: right;\n",
       "    }\n",
       "</style>\n",
       "<table border=\"1\" class=\"dataframe\">\n",
       "  <thead>\n",
       "    <tr style=\"text-align: right;\">\n",
       "      <th></th>\n",
       "      <th>attributes</th>\n",
       "      <th>min</th>\n",
       "      <th>max</th>\n",
       "      <th>range</th>\n",
       "      <th>mean</th>\n",
       "      <th>mediana</th>\n",
       "      <th>std</th>\n",
       "      <th>skew</th>\n",
       "      <th>kurtosis</th>\n",
       "    </tr>\n",
       "  </thead>\n",
       "  <tbody>\n",
       "    <tr>\n",
       "      <th>0</th>\n",
       "      <td>quantity</td>\n",
       "      <td>-80995.00</td>\n",
       "      <td>80995.0</td>\n",
       "      <td>161990.00</td>\n",
       "      <td>9.552250</td>\n",
       "      <td>3.00</td>\n",
       "      <td>218.080957</td>\n",
       "      <td>-0.264076</td>\n",
       "      <td>119769.160031</td>\n",
       "    </tr>\n",
       "    <tr>\n",
       "      <th>1</th>\n",
       "      <td>unit_price</td>\n",
       "      <td>-11062.06</td>\n",
       "      <td>38970.0</td>\n",
       "      <td>50032.06</td>\n",
       "      <td>4.611114</td>\n",
       "      <td>2.08</td>\n",
       "      <td>96.759764</td>\n",
       "      <td>186.506972</td>\n",
       "      <td>59005.719097</td>\n",
       "    </tr>\n",
       "    <tr>\n",
       "      <th>2</th>\n",
       "      <td>customer_id</td>\n",
       "      <td>12346.00</td>\n",
       "      <td>22709.0</td>\n",
       "      <td>10363.00</td>\n",
       "      <td>16688.840453</td>\n",
       "      <td>16249.00</td>\n",
       "      <td>2911.408666</td>\n",
       "      <td>0.487449</td>\n",
       "      <td>-0.804287</td>\n",
       "    </tr>\n",
       "  </tbody>\n",
       "</table>\n",
       "</div>"
      ],
      "text/plain": [
       "    attributes       min      max      range          mean   mediana          std        skew       kurtosis\n",
       "0     quantity -80995.00  80995.0  161990.00      9.552250      3.00   218.080957   -0.264076  119769.160031\n",
       "1   unit_price -11062.06  38970.0   50032.06      4.611114      2.08    96.759764  186.506972   59005.719097\n",
       "2  customer_id  12346.00  22709.0   10363.00  16688.840453  16249.00  2911.408666    0.487449      -0.804287"
      ]
     },
     "execution_count": 14,
     "metadata": {},
     "output_type": "execute_result"
    }
   ],
   "source": [
    "# central tendency - mean, median\n",
    "ct1 = pd.DataFrame( num_attributes.apply( np.mean ) ).T\n",
    "ct2 = pd.DataFrame( num_attributes.apply( np.median ) ).T\n",
    "             \n",
    "# dispersion - desvio padrão, minimo, maximo, range, skew, kurtosis\n",
    "d1 = pd.DataFrame( num_attributes.apply( np.std ) ).T\n",
    "d2 = pd.DataFrame( num_attributes.apply( np.min ) ).T\n",
    "d3 = pd.DataFrame( num_attributes.apply( np.max ) ).T\n",
    "d4 = pd.DataFrame( num_attributes.apply( lambda x: x.max() - x.min() ) ).T\n",
    "d5 = pd.DataFrame( num_attributes.apply( lambda x: x.skew() ) ).T\n",
    "d6 = pd.DataFrame( num_attributes.apply( lambda x: x.kurtosis() ) ).T\n",
    "\n",
    "# concatenate\n",
    "m = pd.concat( [d2, d3, d4, ct1, ct2, d1, d5, d6] ).T.reset_index()\n",
    "m.columns = ['attributes', 'min', 'max', 'range', 'mean', 'mediana', 'std', 'skew', 'kurtosis']\n",
    "m"
   ]
  },
  {
   "cell_type": "markdown",
   "id": "11c4d080",
   "metadata": {
    "papermill": {
     "duration": 0.061955,
     "end_time": "2022-09-27T21:24:01.056197",
     "exception": false,
     "start_time": "2022-09-27T21:24:00.994242",
     "status": "completed"
    },
    "tags": []
   },
   "source": [
    "#### 1.7.1.1 Numerical Attributs Investigating"
   ]
  },
  {
   "cell_type": "markdown",
   "id": "09e7980e",
   "metadata": {
    "papermill": {
     "duration": 0.06196,
     "end_time": "2022-09-27T21:24:01.179119",
     "exception": false,
     "start_time": "2022-09-27T21:24:01.117159",
     "status": "completed"
    },
    "tags": []
   },
   "source": [
    "1. Quantity negativa ( pode ser devolução )\n",
    "\n",
    "2. Preço unitário igual a zero ( pode ser promoção? )"
   ]
  },
  {
   "cell_type": "markdown",
   "id": "0eb2d237",
   "metadata": {
    "papermill": {
     "duration": 0.060959,
     "end_time": "2022-09-27T21:24:01.301039",
     "exception": false,
     "start_time": "2022-09-27T21:24:01.240080",
     "status": "completed"
    },
    "tags": []
   },
   "source": [
    "### 1.7.1 Categorical Attributs"
   ]
  },
  {
   "cell_type": "code",
   "execution_count": 15,
   "id": "da812681",
   "metadata": {
    "ExecuteTime": {
     "end_time": "2022-09-27T11:47:52.187269Z",
     "start_time": "2022-09-27T11:47:51.132858Z"
    },
    "execution": {
     "iopub.execute_input": "2022-09-27T21:24:01.424961Z",
     "iopub.status.busy": "2022-09-27T21:24:01.424961Z",
     "iopub.status.idle": "2022-09-27T21:24:02.429900Z",
     "shell.execute_reply": "2022-09-27T21:24:02.429495Z"
    },
    "papermill": {
     "duration": 1.069901,
     "end_time": "2022-09-27T21:24:02.431902",
     "exception": false,
     "start_time": "2022-09-27T21:24:01.362001",
     "status": "completed"
    },
    "tags": []
   },
   "outputs": [
    {
     "name": "stdout",
     "output_type": "stream",
     "text": [
      "Total number of invoices: 9291\n",
      "Total number of negative quantity: 9288\n"
     ]
    }
   ],
   "source": [
    "# problema: Temos invoice com letras e numeros\n",
    "#df1['invoice_no'].astype( int )\n",
    "\n",
    "# identficacao: \n",
    "df_letter_invoices = df1.loc[df1['invoice_no'].apply( lambda x: bool( re.search( '[^0-9]+', x ) ) ), :]\n",
    "df_letter_invoices.head()\n",
    "\n",
    "print( 'Total number of invoices: {}'.format( len( df_letter_invoices ) ) )\n",
    "print( 'Total number of negative quantity: {}'.format( len( df_letter_invoices[ df_letter_invoices['quantity'] < 0 ] ) ) )"
   ]
  },
  {
   "cell_type": "markdown",
   "id": "a6d62fcc",
   "metadata": {
    "papermill": {
     "duration": 0.062953,
     "end_time": "2022-09-27T21:24:04.460540",
     "exception": false,
     "start_time": "2022-09-27T21:24:04.397587",
     "status": "completed"
    },
    "tags": []
   },
   "source": [
    "# 2.0 Data Filtering"
   ]
  },
  {
   "cell_type": "code",
   "execution_count": 20,
   "id": "920ec51a",
   "metadata": {
    "ExecuteTime": {
     "end_time": "2022-09-27T11:47:54.279997Z",
     "start_time": "2022-09-27T11:47:54.253013Z"
    },
    "execution": {
     "iopub.execute_input": "2022-09-27T21:24:04.588458Z",
     "iopub.status.busy": "2022-09-27T21:24:04.588458Z",
     "iopub.status.idle": "2022-09-27T21:24:04.618496Z",
     "shell.execute_reply": "2022-09-27T21:24:04.617490Z"
    },
    "papermill": {
     "duration": 0.097995,
     "end_time": "2022-09-27T21:24:04.620495",
     "exception": false,
     "start_time": "2022-09-27T21:24:04.522500",
     "status": "completed"
    },
    "tags": []
   },
   "outputs": [],
   "source": [
    "df2 = df1.copy()"
   ]
  },
  {
   "cell_type": "code",
   "execution_count": 21,
   "id": "8c7b41d1",
   "metadata": {
    "ExecuteTime": {
     "end_time": "2022-09-27T11:47:55.535109Z",
     "start_time": "2022-09-27T11:47:55.181012Z"
    },
    "execution": {
     "iopub.execute_input": "2022-09-27T21:24:04.747413Z",
     "iopub.status.busy": "2022-09-27T21:24:04.746414Z",
     "iopub.status.idle": "2022-09-27T21:24:05.108474Z",
     "shell.execute_reply": "2022-09-27T21:24:05.107377Z"
    },
    "papermill": {
     "duration": 0.428024,
     "end_time": "2022-09-27T21:24:05.110476",
     "exception": false,
     "start_time": "2022-09-27T21:24:04.682452",
     "status": "completed"
    },
    "tags": []
   },
   "outputs": [],
   "source": [
    "# === Numerical attributes ====\n",
    "df2 = df2.loc[df2['unit_price'] >= 0.04, :]\n",
    "\n",
    "# === Categorical attributes ====\n",
    "df2 = df2[~df2['stock_code'].isin( ['POST', 'D', 'DOT', 'M', 'S', 'AMAZONFEE', 'm', 'DCGSSBOY', 'DCGSSGIRL', 'PADS', 'B', 'CRUK'] ) ]\n",
    "\n",
    "# description\n",
    "df2 = df2.drop( columns='description', axis=1 )\n",
    "\n",
    "# map -  \n",
    "df2 = df2[~df2['country'].isin( ['European Community', 'Unspecified' ] ) ]\n",
    "\n",
    "# bad users\n",
    "df2 = df2[~df2['customer_id'].isin( [16446] )]\n",
    "\n",
    "# quantity\n",
    "df2_returns = df2.loc[df1['quantity'] < 0, :]\n",
    "df2_purchases = df2.loc[df1['quantity'] >= 0, :]"
   ]
  },
  {
   "cell_type": "markdown",
   "id": "a9a262f0",
   "metadata": {
    "papermill": {
     "duration": 0.06196,
     "end_time": "2022-09-27T21:24:05.234397",
     "exception": false,
     "start_time": "2022-09-27T21:24:05.172437",
     "status": "completed"
    },
    "tags": []
   },
   "source": [
    "# 3.0 Feature Engineering"
   ]
  },
  {
   "cell_type": "code",
   "execution_count": 22,
   "id": "0a89f2eb",
   "metadata": {
    "ExecuteTime": {
     "end_time": "2022-09-27T11:47:58.314104Z",
     "start_time": "2022-09-27T11:47:58.293117Z"
    },
    "execution": {
     "iopub.execute_input": "2022-09-27T21:24:05.359318Z",
     "iopub.status.busy": "2022-09-27T21:24:05.359318Z",
     "iopub.status.idle": "2022-09-27T21:24:05.391412Z",
     "shell.execute_reply": "2022-09-27T21:24:05.390399Z"
    },
    "papermill": {
     "duration": 0.097059,
     "end_time": "2022-09-27T21:24:05.393415",
     "exception": false,
     "start_time": "2022-09-27T21:24:05.296356",
     "status": "completed"
    },
    "tags": []
   },
   "outputs": [],
   "source": [
    "df3 = df2.copy()"
   ]
  },
  {
   "cell_type": "markdown",
   "id": "8705f872",
   "metadata": {
    "papermill": {
     "duration": 0.062959,
     "end_time": "2022-09-27T21:24:05.518335",
     "exception": false,
     "start_time": "2022-09-27T21:24:05.455376",
     "status": "completed"
    },
    "tags": []
   },
   "source": [
    "## 3.1 Feature Selection"
   ]
  },
  {
   "cell_type": "code",
   "execution_count": 23,
   "id": "c39c7b7f",
   "metadata": {
    "ExecuteTime": {
     "end_time": "2022-09-27T11:47:59.470244Z",
     "start_time": "2022-09-27T11:47:59.429268Z"
    },
    "execution": {
     "iopub.execute_input": "2022-09-27T21:24:05.647251Z",
     "iopub.status.busy": "2022-09-27T21:24:05.647251Z",
     "iopub.status.idle": "2022-09-27T21:24:05.697219Z",
     "shell.execute_reply": "2022-09-27T21:24:05.696219Z"
    },
    "papermill": {
     "duration": 0.11592,
     "end_time": "2022-09-27T21:24:05.699218",
     "exception": false,
     "start_time": "2022-09-27T21:24:05.583298",
     "status": "completed"
    },
    "tags": []
   },
   "outputs": [],
   "source": [
    "# data reference\n",
    "df_ref = df3.drop( ['invoice_no', 'stock_code', 'quantity', 'invoice_date', 'unit_price', 'country'], axis=1 ).drop_duplicates( ignore_index=True )"
   ]
  },
  {
   "cell_type": "code",
   "execution_count": 24,
   "id": "1a979edc",
   "metadata": {
    "ExecuteTime": {
     "end_time": "2022-09-27T11:48:00.097244Z",
     "start_time": "2022-09-27T11:48:00.031280Z"
    },
    "execution": {
     "iopub.execute_input": "2022-09-27T21:24:05.827135Z",
     "iopub.status.busy": "2022-09-27T21:24:05.826136Z",
     "iopub.status.idle": "2022-09-27T21:24:05.880203Z",
     "shell.execute_reply": "2022-09-27T21:24:05.880203Z"
    },
    "papermill": {
     "duration": 0.121029,
     "end_time": "2022-09-27T21:24:05.883206",
     "exception": false,
     "start_time": "2022-09-27T21:24:05.762177",
     "status": "completed"
    },
    "tags": []
   },
   "outputs": [
    {
     "data": {
      "text/plain": [
       "customer_id       0\n",
       "gross_revenue    91\n",
       "dtype: int64"
      ]
     },
     "execution_count": 24,
     "metadata": {},
     "output_type": "execute_result"
    }
   ],
   "source": [
    "# Gross Revenue ( Faturamento ) quantity * price\n",
    "df2_purchases.loc[:, 'gross_revenue'] = df2_purchases.loc[:, 'quantity'] * df2_purchases.loc[:, 'unit_price']\n",
    "\n",
    "# Monetary\n",
    "df_monetary = df2_purchases.loc[:, ['customer_id', 'gross_revenue']].groupby( 'customer_id' ).sum().reset_index()\n",
    "df_ref = pd.merge( df_ref, df_monetary, on='customer_id', how='left' )\n",
    "df_ref.isna().sum()"
   ]
  },
  {
   "cell_type": "code",
   "execution_count": 25,
   "id": "866dedea",
   "metadata": {
    "ExecuteTime": {
     "end_time": "2022-09-27T11:48:01.532889Z",
     "start_time": "2022-09-27T11:48:00.574334Z"
    },
    "execution": {
     "iopub.execute_input": "2022-09-27T21:24:06.009126Z",
     "iopub.status.busy": "2022-09-27T21:24:06.009126Z",
     "iopub.status.idle": "2022-09-27T21:24:06.892557Z",
     "shell.execute_reply": "2022-09-27T21:24:06.891558Z"
    },
    "papermill": {
     "duration": 0.949391,
     "end_time": "2022-09-27T21:24:06.894556",
     "exception": false,
     "start_time": "2022-09-27T21:24:05.945165",
     "status": "completed"
    },
    "tags": []
   },
   "outputs": [
    {
     "data": {
      "text/plain": [
       "customer_id       0\n",
       "gross_revenue    91\n",
       "recency_days     91\n",
       "dtype: int64"
      ]
     },
     "execution_count": 25,
     "metadata": {},
     "output_type": "execute_result"
    }
   ],
   "source": [
    "# Recency - Last day purchase\n",
    "df_recency = df2_purchases.loc[:, ['customer_id', 'invoice_date']].groupby( 'customer_id' ).max().reset_index()\n",
    "df_recency['recency_days'] = ( df2['invoice_date'].max() - df_recency['invoice_date'] ).dt.days\n",
    "df_recency = df_recency[['customer_id', 'recency_days']].copy()\n",
    "df_ref = pd.merge( df_ref, df_recency, on='customer_id', how='left' )\n",
    "df_ref.isna().sum()"
   ]
  },
  {
   "cell_type": "code",
   "execution_count": 28,
   "id": "1f11c629",
   "metadata": {
    "ExecuteTime": {
     "end_time": "2022-09-27T11:48:01.849137Z",
     "start_time": "2022-09-27T11:48:01.709790Z"
    },
    "execution": {
     "iopub.execute_input": "2022-09-27T21:24:07.434731Z",
     "iopub.status.busy": "2022-09-27T21:24:07.434731Z",
     "iopub.status.idle": "2022-09-27T21:24:07.559522Z",
     "shell.execute_reply": "2022-09-27T21:24:07.558813Z"
    },
    "papermill": {
     "duration": 0.190753,
     "end_time": "2022-09-27T21:24:07.561525",
     "exception": false,
     "start_time": "2022-09-27T21:24:07.370772",
     "status": "completed"
    },
    "tags": []
   },
   "outputs": [
    {
     "data": {
      "text/plain": [
       "customer_id       0\n",
       "gross_revenue    91\n",
       "recency_days     91\n",
       "qtde_invoices    91\n",
       "qtde_items       91\n",
       "qtde_products    91\n",
       "dtype: int64"
      ]
     },
     "execution_count": 28,
     "metadata": {},
     "output_type": "execute_result"
    }
   ],
   "source": [
    " # Quantity of products purchased\n",
    "df_freq = (df2_purchases.loc[:, ['customer_id', 'stock_code']].groupby( 'customer_id' ).count()\n",
    "                                                           .reset_index()\n",
    "                                                           .rename( columns={'stock_code': 'qtde_products'} ) )\n",
    "df_ref = pd.merge( df_ref, df_freq, on='customer_id', how='left' )\n",
    "df_ref.isna().sum()"
   ]
  },
  {
   "cell_type": "code",
   "execution_count": 31,
   "id": "e8ade5cc",
   "metadata": {
    "ExecuteTime": {
     "end_time": "2022-09-27T11:48:05.581080Z",
     "start_time": "2022-09-27T11:48:02.736863Z"
    },
    "execution": {
     "iopub.execute_input": "2022-09-27T21:24:08.762036Z",
     "iopub.status.busy": "2022-09-27T21:24:08.762036Z",
     "iopub.status.idle": "2022-09-27T21:24:11.516336Z",
     "shell.execute_reply": "2022-09-27T21:24:11.515341Z"
    },
    "papermill": {
     "duration": 2.820256,
     "end_time": "2022-09-27T21:24:11.518334",
     "exception": false,
     "start_time": "2022-09-27T21:24:08.698078",
     "status": "completed"
    },
    "tags": []
   },
   "outputs": [
    {
     "data": {
      "text/plain": [
       "customer_id            0\n",
       "gross_revenue         91\n",
       "recency_days          91\n",
       "qtde_invoices         91\n",
       "qtde_items            91\n",
       "qtde_products         91\n",
       "avg_ticket            91\n",
       "avg_recency_days    2816\n",
       "frequency             91\n",
       "dtype: int64"
      ]
     },
     "execution_count": 31,
     "metadata": {},
     "output_type": "execute_result"
    }
   ],
   "source": [
    "#Frequency Purchase\n",
    "\n",
    "df_aux = ( df2_purchases[['customer_id', 'invoice_no', 'invoice_date']].drop_duplicates()\n",
    "                                                             .groupby( 'customer_id')\n",
    "                                                             .agg( max_ = ( 'invoice_date', 'max' ), \n",
    "                                                                   min_ = ( 'invoice_date', 'min' ),\n",
    "                                                                   days_= ( 'invoice_date', lambda x: ( ( x.max() - x.min() ).days ) + 1 ),\n",
    "                                                                   buy_ = ( 'invoice_no', 'count' ) ) ).reset_index()\n",
    "# Frequency\n",
    "df_aux['frequency'] = df_aux[['buy_', 'days_']].apply( lambda x: x['buy_'] / x['days_'] if  x['days_'] != 0 else 0, axis=1 )\n",
    "\n",
    "# Merge\n",
    "df_ref = pd.merge( df_ref, df_aux[['customer_id', 'frequency']], on='customer_id', how='left' )\n",
    "\n",
    "df_ref.isna().sum()"
   ]
  },
  {
   "cell_type": "code",
   "execution_count": 32,
   "id": "bdca4661",
   "metadata": {
    "ExecuteTime": {
     "end_time": "2022-09-27T11:48:05.613064Z",
     "start_time": "2022-09-27T11:48:05.584078Z"
    },
    "execution": {
     "iopub.execute_input": "2022-09-27T21:24:11.648253Z",
     "iopub.status.busy": "2022-09-27T21:24:11.647253Z",
     "iopub.status.idle": "2022-09-27T21:24:11.674248Z",
     "shell.execute_reply": "2022-09-27T21:24:11.674248Z"
    },
    "papermill": {
     "duration": 0.094956,
     "end_time": "2022-09-27T21:24:11.677251",
     "exception": false,
     "start_time": "2022-09-27T21:24:11.582295",
     "status": "completed"
    },
    "tags": []
   },
   "outputs": [
    {
     "data": {
      "text/plain": [
       "customer_id            0\n",
       "gross_revenue         91\n",
       "recency_days          91\n",
       "qtde_invoices         91\n",
       "qtde_items            91\n",
       "qtde_products         91\n",
       "avg_ticket            91\n",
       "avg_recency_days    2816\n",
       "frequency             91\n",
       "qtde_returns           0\n",
       "dtype: int64"
      ]
     },
     "execution_count": 32,
     "metadata": {},
     "output_type": "execute_result"
    }
   ],
   "source": [
    "# Number of Returns\n",
    "df_returns = df2_returns[['customer_id', 'quantity']].groupby( 'customer_id' ).sum().reset_index().rename( columns={'quantity':'qtde_returns'} )\n",
    "df_returns['qtde_returns'] = df_returns['qtde_returns'] * -1\n",
    "\n",
    "df_ref = pd.merge( df_ref, df_returns, how='left', on='customer_id' )\n",
    "df_ref.loc[df_ref['qtde_returns'].isna(), 'qtde_returns'] = 0\n",
    "\n",
    "df_ref.isna().sum()"
   ]
  },
  {
   "cell_type": "code",
   "execution_count": 35,
   "id": "1e69cbe4",
   "metadata": {
    "ExecuteTime": {
     "end_time": "2022-09-27T11:48:06.182806Z",
     "start_time": "2022-09-27T11:48:06.153821Z"
    },
    "execution": {
     "iopub.execute_input": "2022-09-27T21:24:12.552202Z",
     "iopub.status.busy": "2022-09-27T21:24:12.551204Z",
     "iopub.status.idle": "2022-09-27T21:24:12.576228Z",
     "shell.execute_reply": "2022-09-27T21:24:12.576228Z"
    },
    "papermill": {
     "duration": 0.094233,
     "end_time": "2022-09-27T21:24:12.579234",
     "exception": false,
     "start_time": "2022-09-27T21:24:12.485001",
     "status": "completed"
    },
    "tags": []
   },
   "outputs": [
    {
     "data": {
      "text/html": [
       "<div>\n",
       "<style scoped>\n",
       "    .dataframe tbody tr th:only-of-type {\n",
       "        vertical-align: middle;\n",
       "    }\n",
       "\n",
       "    .dataframe tbody tr th {\n",
       "        vertical-align: top;\n",
       "    }\n",
       "\n",
       "    .dataframe thead th {\n",
       "        text-align: right;\n",
       "    }\n",
       "</style>\n",
       "<table border=\"1\" class=\"dataframe\">\n",
       "  <thead>\n",
       "    <tr style=\"text-align: right;\">\n",
       "      <th></th>\n",
       "      <th>customer_id</th>\n",
       "      <th>gross_revenue</th>\n",
       "      <th>recency_days</th>\n",
       "      <th>qtde_invoices</th>\n",
       "      <th>qtde_items</th>\n",
       "      <th>qtde_products</th>\n",
       "      <th>avg_ticket</th>\n",
       "      <th>avg_recency_days</th>\n",
       "      <th>frequency</th>\n",
       "      <th>qtde_returns</th>\n",
       "      <th>avg_basket_size</th>\n",
       "      <th>avg_unique_basket_size</th>\n",
       "    </tr>\n",
       "  </thead>\n",
       "  <tbody>\n",
       "    <tr>\n",
       "      <th>0</th>\n",
       "      <td>17850</td>\n",
       "      <td>5391.21</td>\n",
       "      <td>372.0</td>\n",
       "      <td>34.0</td>\n",
       "      <td>1733.0</td>\n",
       "      <td>297.0</td>\n",
       "      <td>18.152222</td>\n",
       "      <td>35.500000</td>\n",
       "      <td>17.000000</td>\n",
       "      <td>40.0</td>\n",
       "      <td>50.970588</td>\n",
       "      <td>0.617647</td>\n",
       "    </tr>\n",
       "    <tr>\n",
       "      <th>1</th>\n",
       "      <td>13047</td>\n",
       "      <td>3232.59</td>\n",
       "      <td>56.0</td>\n",
       "      <td>9.0</td>\n",
       "      <td>1390.0</td>\n",
       "      <td>171.0</td>\n",
       "      <td>18.904035</td>\n",
       "      <td>27.250000</td>\n",
       "      <td>0.028302</td>\n",
       "      <td>35.0</td>\n",
       "      <td>154.444444</td>\n",
       "      <td>11.666667</td>\n",
       "    </tr>\n",
       "    <tr>\n",
       "      <th>2</th>\n",
       "      <td>12583</td>\n",
       "      <td>6705.38</td>\n",
       "      <td>2.0</td>\n",
       "      <td>15.0</td>\n",
       "      <td>5028.0</td>\n",
       "      <td>232.0</td>\n",
       "      <td>28.902500</td>\n",
       "      <td>23.187500</td>\n",
       "      <td>0.040323</td>\n",
       "      <td>50.0</td>\n",
       "      <td>335.200000</td>\n",
       "      <td>7.600000</td>\n",
       "    </tr>\n",
       "    <tr>\n",
       "      <th>3</th>\n",
       "      <td>13748</td>\n",
       "      <td>948.25</td>\n",
       "      <td>95.0</td>\n",
       "      <td>5.0</td>\n",
       "      <td>439.0</td>\n",
       "      <td>28.0</td>\n",
       "      <td>33.866071</td>\n",
       "      <td>92.666667</td>\n",
       "      <td>0.017921</td>\n",
       "      <td>0.0</td>\n",
       "      <td>87.800000</td>\n",
       "      <td>4.800000</td>\n",
       "    </tr>\n",
       "    <tr>\n",
       "      <th>4</th>\n",
       "      <td>15100</td>\n",
       "      <td>876.00</td>\n",
       "      <td>333.0</td>\n",
       "      <td>3.0</td>\n",
       "      <td>80.0</td>\n",
       "      <td>3.0</td>\n",
       "      <td>292.000000</td>\n",
       "      <td>8.600000</td>\n",
       "      <td>0.073171</td>\n",
       "      <td>22.0</td>\n",
       "      <td>26.666667</td>\n",
       "      <td>0.333333</td>\n",
       "    </tr>\n",
       "  </tbody>\n",
       "</table>\n",
       "</div>"
      ],
      "text/plain": [
       "   customer_id  gross_revenue  recency_days  qtde_invoices  qtde_items  qtde_products  avg_ticket  avg_recency_days  frequency  qtde_returns  avg_basket_size  avg_unique_basket_size\n",
       "0        17850        5391.21         372.0           34.0      1733.0          297.0   18.152222         35.500000  17.000000          40.0        50.970588                0.617647\n",
       "1        13047        3232.59          56.0            9.0      1390.0          171.0   18.904035         27.250000   0.028302          35.0       154.444444               11.666667\n",
       "2        12583        6705.38           2.0           15.0      5028.0          232.0   28.902500         23.187500   0.040323          50.0       335.200000                7.600000\n",
       "3        13748         948.25          95.0            5.0       439.0           28.0   33.866071         92.666667   0.017921           0.0        87.800000                4.800000\n",
       "4        15100         876.00         333.0            3.0        80.0            3.0  292.000000          8.600000   0.073171          22.0        26.666667                0.333333"
      ]
     },
     "execution_count": 35,
     "metadata": {},
     "output_type": "execute_result"
    }
   ],
   "source": [
    "df_ref.head()"
   ]
  },
  {
   "cell_type": "markdown",
   "id": "1ede8f93",
   "metadata": {
    "papermill": {
     "duration": 0.065958,
     "end_time": "2022-09-27T21:24:12.710148",
     "exception": false,
     "start_time": "2022-09-27T21:24:12.644190",
     "status": "completed"
    },
    "tags": []
   },
   "source": [
    "# 4.0 EDA"
   ]
  },
  {
   "cell_type": "code",
   "execution_count": 36,
   "id": "5ab95808",
   "metadata": {
    "ExecuteTime": {
     "end_time": "2022-09-27T11:48:10.045788Z",
     "start_time": "2022-09-27T11:48:10.023801Z"
    },
    "execution": {
     "iopub.execute_input": "2022-09-27T21:24:12.839067Z",
     "iopub.status.busy": "2022-09-27T21:24:12.839067Z",
     "iopub.status.idle": "2022-09-27T21:24:12.857715Z",
     "shell.execute_reply": "2022-09-27T21:24:12.856992Z"
    },
    "papermill": {
     "duration": 0.086609,
     "end_time": "2022-09-27T21:24:12.859718",
     "exception": false,
     "start_time": "2022-09-27T21:24:12.773109",
     "status": "completed"
    },
    "tags": []
   },
   "outputs": [
    {
     "data": {
      "text/plain": [
       "customer_id               0\n",
       "gross_revenue             0\n",
       "recency_days              0\n",
       "qtde_invoices             0\n",
       "qtde_items                0\n",
       "qtde_products             0\n",
       "avg_ticket                0\n",
       "avg_recency_days          0\n",
       "frequency                 0\n",
       "qtde_returns              0\n",
       "avg_basket_size           0\n",
       "avg_unique_basket_size    0\n",
       "dtype: int64"
      ]
     },
     "execution_count": 36,
     "metadata": {},
     "output_type": "execute_result"
    }
   ],
   "source": [
    "df4 = df_ref.dropna()\n",
    "df4.isna().sum()"
   ]
  },
  {
   "cell_type": "markdown",
   "id": "1e7d9082",
   "metadata": {
    "papermill": {
     "duration": 0.078949,
     "end_time": "2022-09-27T21:25:30.676681",
     "exception": false,
     "start_time": "2022-09-27T21:25:30.597732",
     "status": "completed"
    },
    "tags": []
   },
   "source": [
    "## 4.3 Estudo do Espaço"
   ]
  },
  {
   "cell_type": "code",
   "execution_count": 54,
   "id": "53baf852",
   "metadata": {
    "ExecuteTime": {
     "end_time": "2022-09-27T11:48:19.124768Z",
     "start_time": "2022-09-27T11:48:19.111775Z"
    },
    "execution": {
     "iopub.execute_input": "2022-09-27T21:25:30.834580Z",
     "iopub.status.busy": "2022-09-27T21:25:30.834580Z",
     "iopub.status.idle": "2022-09-27T21:25:30.841576Z",
     "shell.execute_reply": "2022-09-27T21:25:30.841576Z"
    },
    "papermill": {
     "duration": 0.089941,
     "end_time": "2022-09-27T21:25:30.844572",
     "exception": false,
     "start_time": "2022-09-27T21:25:30.754631",
     "status": "completed"
    },
    "tags": []
   },
   "outputs": [],
   "source": [
    "# selected dataset\n",
    "cols_selected = ['gross_revenue', 'recency_days', 'qtde_products', 'frequency', 'qtde_returns']\n",
    "df43 = df43 = df4.drop( columns=['customer_id'], axis=1 ).copy()\n",
    "df43 = df43[ cols_selected ]"
   ]
  },
  {
   "cell_type": "code",
   "execution_count": 55,
   "id": "75711452",
   "metadata": {
    "ExecuteTime": {
     "end_time": "2022-09-27T11:48:20.115862Z",
     "start_time": "2022-09-27T11:48:20.078884Z"
    },
    "execution": {
     "iopub.execute_input": "2022-09-27T21:25:31.001472Z",
     "iopub.status.busy": "2022-09-27T21:25:31.001472Z",
     "iopub.status.idle": "2022-09-27T21:25:31.032474Z",
     "shell.execute_reply": "2022-09-27T21:25:31.031478Z"
    },
    "papermill": {
     "duration": 0.112949,
     "end_time": "2022-09-27T21:25:31.034471",
     "exception": false,
     "start_time": "2022-09-27T21:25:30.921522",
     "status": "completed"
    },
    "tags": []
   },
   "outputs": [],
   "source": [
    "mm = pp.MinMaxScaler() \n",
    "\n",
    "df43['gross_revenue']           = mm.fit_transform( df43[['gross_revenue']] )\n",
    "df43['recency_days']            = mm.fit_transform( df43[['recency_days']] )\n",
    "df43['qtde_products']           = mm.fit_transform( df43[['qtde_products']])\n",
    "df43['frequency']               = mm.fit_transform( df43[['frequency']])\n",
    "df43['qtde_returns']            = mm.fit_transform( df43[['qtde_returns']])\n",
    "\n",
    "\n",
    "X = df43.copy()"
   ]
  },
  {
   "cell_type": "code",
   "execution_count": 56,
   "id": "31b2c639",
   "metadata": {
    "ExecuteTime": {
     "end_time": "2022-09-27T11:48:22.301412Z",
     "start_time": "2022-09-27T11:48:22.287420Z"
    },
    "execution": {
     "iopub.execute_input": "2022-09-27T21:25:31.193371Z",
     "iopub.status.busy": "2022-09-27T21:25:31.193371Z",
     "iopub.status.idle": "2022-09-27T21:25:31.205342Z",
     "shell.execute_reply": "2022-09-27T21:25:31.205342Z"
    },
    "papermill": {
     "duration": 0.095924,
     "end_time": "2022-09-27T21:25:31.208346",
     "exception": false,
     "start_time": "2022-09-27T21:25:31.112422",
     "status": "completed"
    },
    "tags": []
   },
   "outputs": [
    {
     "data": {
      "text/plain": [
       "(2968, 5)"
      ]
     },
     "execution_count": 56,
     "metadata": {},
     "output_type": "execute_result"
    }
   ],
   "source": [
    "X.shape"
   ]
  },
  {
   "cell_type": "code",
   "execution_count": 57,
   "id": "c29d5907",
   "metadata": {
    "ExecuteTime": {
     "end_time": "2022-09-27T11:48:22.919427Z",
     "start_time": "2022-09-27T11:48:22.903436Z"
    },
    "execution": {
     "iopub.execute_input": "2022-09-27T21:25:31.366245Z",
     "iopub.status.busy": "2022-09-27T21:25:31.365244Z",
     "iopub.status.idle": "2022-09-27T21:25:31.380235Z",
     "shell.execute_reply": "2022-09-27T21:25:31.379240Z"
    },
    "papermill": {
     "duration": 0.095936,
     "end_time": "2022-09-27T21:25:31.382233",
     "exception": false,
     "start_time": "2022-09-27T21:25:31.286297",
     "status": "completed"
    },
    "tags": []
   },
   "outputs": [
    {
     "data": {
      "text/html": [
       "<div>\n",
       "<style scoped>\n",
       "    .dataframe tbody tr th:only-of-type {\n",
       "        vertical-align: middle;\n",
       "    }\n",
       "\n",
       "    .dataframe tbody tr th {\n",
       "        vertical-align: top;\n",
       "    }\n",
       "\n",
       "    .dataframe thead th {\n",
       "        text-align: right;\n",
       "    }\n",
       "</style>\n",
       "<table border=\"1\" class=\"dataframe\">\n",
       "  <thead>\n",
       "    <tr style=\"text-align: right;\">\n",
       "      <th></th>\n",
       "      <th>gross_revenue</th>\n",
       "      <th>recency_days</th>\n",
       "      <th>qtde_products</th>\n",
       "      <th>frequency</th>\n",
       "      <th>qtde_returns</th>\n",
       "    </tr>\n",
       "  </thead>\n",
       "  <tbody>\n",
       "    <tr>\n",
       "      <th>0</th>\n",
       "      <td>0.019292</td>\n",
       "      <td>0.997319</td>\n",
       "      <td>0.037770</td>\n",
       "      <td>1.000000</td>\n",
       "      <td>0.004438</td>\n",
       "    </tr>\n",
       "    <tr>\n",
       "      <th>1</th>\n",
       "      <td>0.011559</td>\n",
       "      <td>0.150134</td>\n",
       "      <td>0.021692</td>\n",
       "      <td>0.001345</td>\n",
       "      <td>0.003883</td>\n",
       "    </tr>\n",
       "    <tr>\n",
       "      <th>2</th>\n",
       "      <td>0.024000</td>\n",
       "      <td>0.005362</td>\n",
       "      <td>0.029476</td>\n",
       "      <td>0.002052</td>\n",
       "      <td>0.005547</td>\n",
       "    </tr>\n",
       "    <tr>\n",
       "      <th>3</th>\n",
       "      <td>0.003375</td>\n",
       "      <td>0.254692</td>\n",
       "      <td>0.003445</td>\n",
       "      <td>0.000734</td>\n",
       "      <td>0.000000</td>\n",
       "    </tr>\n",
       "    <tr>\n",
       "      <th>4</th>\n",
       "      <td>0.003116</td>\n",
       "      <td>0.892761</td>\n",
       "      <td>0.000255</td>\n",
       "      <td>0.003985</td>\n",
       "      <td>0.002441</td>\n",
       "    </tr>\n",
       "  </tbody>\n",
       "</table>\n",
       "</div>"
      ],
      "text/plain": [
       "   gross_revenue  recency_days  qtde_products  frequency  qtde_returns\n",
       "0       0.019292      0.997319       0.037770   1.000000      0.004438\n",
       "1       0.011559      0.150134       0.021692   0.001345      0.003883\n",
       "2       0.024000      0.005362       0.029476   0.002052      0.005547\n",
       "3       0.003375      0.254692       0.003445   0.000734      0.000000\n",
       "4       0.003116      0.892761       0.000255   0.003985      0.002441"
      ]
     },
     "execution_count": 57,
     "metadata": {},
     "output_type": "execute_result"
    }
   ],
   "source": [
    "X.head()"
   ]
  },
  {
   "cell_type": "markdown",
   "id": "5d827223",
   "metadata": {
    "papermill": {
     "duration": 0.083946,
     "end_time": "2022-09-27T21:26:04.800286",
     "exception": false,
     "start_time": "2022-09-27T21:26:04.716340",
     "status": "completed"
    },
    "tags": []
   },
   "source": [
    "### 4.3.4. Tree-Based Embedding"
   ]
  },
  {
   "cell_type": "code",
   "execution_count": 62,
   "id": "78acba09",
   "metadata": {
    "ExecuteTime": {
     "end_time": "2022-09-27T11:48:37.226736Z",
     "start_time": "2022-09-27T11:48:36.169115Z"
    },
    "execution": {
     "iopub.execute_input": "2022-09-27T21:26:04.971174Z",
     "iopub.status.busy": "2022-09-27T21:26:04.970176Z",
     "iopub.status.idle": "2022-09-27T21:26:05.896583Z",
     "shell.execute_reply": "2022-09-27T21:26:05.896583Z"
    },
    "papermill": {
     "duration": 1.014348,
     "end_time": "2022-09-27T21:26:05.899577",
     "exception": false,
     "start_time": "2022-09-27T21:26:04.885229",
     "status": "completed"
    },
    "tags": []
   },
   "outputs": [
    {
     "data": {
      "text/html": [
       "<style>#sk-container-id-1 {color: black;background-color: white;}#sk-container-id-1 pre{padding: 0;}#sk-container-id-1 div.sk-toggleable {background-color: white;}#sk-container-id-1 label.sk-toggleable__label {cursor: pointer;display: block;width: 100%;margin-bottom: 0;padding: 0.3em;box-sizing: border-box;text-align: center;}#sk-container-id-1 label.sk-toggleable__label-arrow:before {content: \"▸\";float: left;margin-right: 0.25em;color: #696969;}#sk-container-id-1 label.sk-toggleable__label-arrow:hover:before {color: black;}#sk-container-id-1 div.sk-estimator:hover label.sk-toggleable__label-arrow:before {color: black;}#sk-container-id-1 div.sk-toggleable__content {max-height: 0;max-width: 0;overflow: hidden;text-align: left;background-color: #f0f8ff;}#sk-container-id-1 div.sk-toggleable__content pre {margin: 0.2em;color: black;border-radius: 0.25em;background-color: #f0f8ff;}#sk-container-id-1 input.sk-toggleable__control:checked~div.sk-toggleable__content {max-height: 200px;max-width: 100%;overflow: auto;}#sk-container-id-1 input.sk-toggleable__control:checked~label.sk-toggleable__label-arrow:before {content: \"▾\";}#sk-container-id-1 div.sk-estimator input.sk-toggleable__control:checked~label.sk-toggleable__label {background-color: #d4ebff;}#sk-container-id-1 div.sk-label input.sk-toggleable__control:checked~label.sk-toggleable__label {background-color: #d4ebff;}#sk-container-id-1 input.sk-hidden--visually {border: 0;clip: rect(1px 1px 1px 1px);clip: rect(1px, 1px, 1px, 1px);height: 1px;margin: -1px;overflow: hidden;padding: 0;position: absolute;width: 1px;}#sk-container-id-1 div.sk-estimator {font-family: monospace;background-color: #f0f8ff;border: 1px dotted black;border-radius: 0.25em;box-sizing: border-box;margin-bottom: 0.5em;}#sk-container-id-1 div.sk-estimator:hover {background-color: #d4ebff;}#sk-container-id-1 div.sk-parallel-item::after {content: \"\";width: 100%;border-bottom: 1px solid gray;flex-grow: 1;}#sk-container-id-1 div.sk-label:hover label.sk-toggleable__label {background-color: #d4ebff;}#sk-container-id-1 div.sk-serial::before {content: \"\";position: absolute;border-left: 1px solid gray;box-sizing: border-box;top: 0;bottom: 0;left: 50%;z-index: 0;}#sk-container-id-1 div.sk-serial {display: flex;flex-direction: column;align-items: center;background-color: white;padding-right: 0.2em;padding-left: 0.2em;position: relative;}#sk-container-id-1 div.sk-item {position: relative;z-index: 1;}#sk-container-id-1 div.sk-parallel {display: flex;align-items: stretch;justify-content: center;background-color: white;position: relative;}#sk-container-id-1 div.sk-item::before, #sk-container-id-1 div.sk-parallel-item::before {content: \"\";position: absolute;border-left: 1px solid gray;box-sizing: border-box;top: 0;bottom: 0;left: 50%;z-index: -1;}#sk-container-id-1 div.sk-parallel-item {display: flex;flex-direction: column;z-index: 1;position: relative;background-color: white;}#sk-container-id-1 div.sk-parallel-item:first-child::after {align-self: flex-end;width: 50%;}#sk-container-id-1 div.sk-parallel-item:last-child::after {align-self: flex-start;width: 50%;}#sk-container-id-1 div.sk-parallel-item:only-child::after {width: 0;}#sk-container-id-1 div.sk-dashed-wrapped {border: 1px dashed gray;margin: 0 0.4em 0.5em 0.4em;box-sizing: border-box;padding-bottom: 0.4em;background-color: white;}#sk-container-id-1 div.sk-label label {font-family: monospace;font-weight: bold;display: inline-block;line-height: 1.2em;}#sk-container-id-1 div.sk-label-container {text-align: center;}#sk-container-id-1 div.sk-container {/* jupyter's `normalize.less` sets `[hidden] { display: none; }` but bootstrap.min.css set `[hidden] { display: none !important; }` so we also need the `!important` here to be able to override the default hidden behavior on the sphinx rendered scikit-learn.org. See: https://github.com/scikit-learn/scikit-learn/issues/21755 */display: inline-block !important;position: relative;}#sk-container-id-1 div.sk-text-repr-fallback {display: none;}</style><div id=\"sk-container-id-1\" class=\"sk-top-container\"><div class=\"sk-text-repr-fallback\"><pre>RandomForestRegressor(random_state=42)</pre><b>In a Jupyter environment, please rerun this cell to show the HTML representation or trust the notebook. <br />On GitHub, the HTML representation is unable to render, please try loading this page with nbviewer.org.</b></div><div class=\"sk-container\" hidden><div class=\"sk-item\"><div class=\"sk-estimator sk-toggleable\"><input class=\"sk-toggleable__control sk-hidden--visually\" id=\"sk-estimator-id-1\" type=\"checkbox\" checked><label for=\"sk-estimator-id-1\" class=\"sk-toggleable__label sk-toggleable__label-arrow\">RandomForestRegressor</label><div class=\"sk-toggleable__content\"><pre>RandomForestRegressor(random_state=42)</pre></div></div></div></div></div>"
      ],
      "text/plain": [
       "RandomForestRegressor(random_state=42)"
      ]
     },
     "execution_count": 62,
     "metadata": {},
     "output_type": "execute_result"
    }
   ],
   "source": [
    " # training dataset\n",
    "X = df43.drop( columns=['gross_revenue'], axis=1 )\n",
    "y = df43['gross_revenue']\n",
    "\n",
    "# model definition\n",
    "rf_model = en.RandomForestRegressor( n_estimators=100, random_state=42 )\n",
    "\n",
    "# model training\n",
    "rf_model.fit( X, y )\n",
    "\n",
    "# Leaf \n",
    "\n",
    "# dataframe Leaf"
   ]
  },
  {
   "cell_type": "code",
   "execution_count": 63,
   "id": "3a1a093b",
   "metadata": {
    "ExecuteTime": {
     "end_time": "2022-09-27T11:51:33.120105Z",
     "start_time": "2022-09-27T11:51:33.057139Z"
    },
    "execution": {
     "iopub.execute_input": "2022-09-27T21:26:06.072469Z",
     "iopub.status.busy": "2022-09-27T21:26:06.071470Z",
     "iopub.status.idle": "2022-09-27T21:26:06.133430Z",
     "shell.execute_reply": "2022-09-27T21:26:06.133430Z"
    },
    "papermill": {
     "duration": 0.150904,
     "end_time": "2022-09-27T21:26:06.136426",
     "exception": false,
     "start_time": "2022-09-27T21:26:05.985522",
     "status": "completed"
    },
    "tags": []
   },
   "outputs": [],
   "source": [
    "df_leaf = pd.DataFrame( rf_model.apply( X ) )"
   ]
  },
  {
   "cell_type": "code",
   "execution_count": 64,
   "id": "c77806de",
   "metadata": {
    "ExecuteTime": {
     "end_time": "2022-09-27T11:51:56.217995Z",
     "start_time": "2022-09-27T11:51:34.042052Z"
    },
    "execution": {
     "iopub.execute_input": "2022-09-27T21:26:06.311315Z",
     "iopub.status.busy": "2022-09-27T21:26:06.311315Z",
     "iopub.status.idle": "2022-09-27T21:26:20.452318Z",
     "shell.execute_reply": "2022-09-27T21:26:20.451322Z"
    },
    "papermill": {
     "duration": 14.231946,
     "end_time": "2022-09-27T21:26:20.454317",
     "exception": false,
     "start_time": "2022-09-27T21:26:06.222371",
     "status": "completed"
    },
    "tags": []
   },
   "outputs": [
    {
     "data": {
      "text/plain": [
       "<AxesSubplot:xlabel='embedding_x', ylabel='embedding_y'>"
      ]
     },
     "execution_count": 64,
     "metadata": {},
     "output_type": "execute_result"
    },
    {
     "data": {
      "image/png": "[encoded data removed]",
      "text/plain": [
       "<Figure size 1728x648 with 1 Axes>"
      ]
     },
     "metadata": {},
     "output_type": "display_data"
    }
   ],
   "source": [
    "# Reduzer dimensionality\n",
    "reducer = umap.UMAP( random_state=42 )\n",
    "embedding = reducer.fit_transform( df_leaf )\n",
    "\n",
    "# embedding\n",
    "df_tree = pd.DataFrame()\n",
    "df_tree['embedding_x'] = embedding[:, 0]\n",
    "df_tree['embedding_y'] = embedding[:, 1]\n",
    "\n",
    "# plot UMAP\n",
    "sns.scatterplot( x='embedding_x', \n",
    "                 y='embedding_y', \n",
    "                 data=df_tree )"
   ]
  },
  {
   "cell_type": "markdown",
   "id": "3ea75eda",
   "metadata": {
    "papermill": {
     "duration": 0.086942,
     "end_time": "2022-09-27T21:26:20.629205",
     "exception": false,
     "start_time": "2022-09-27T21:26:20.542263",
     "status": "completed"
    },
    "tags": []
   },
   "source": [
    "# 5.0 Data Preparation"
   ]
  },
  {
   "cell_type": "code",
   "execution_count": 67,
   "id": "935725a6",
   "metadata": {
    "ExecuteTime": {
     "end_time": "2022-09-27T11:52:02.377471Z",
     "start_time": "2022-09-27T11:52:02.362480Z"
    },
    "execution": {
     "iopub.execute_input": "2022-09-27T21:26:21.349902Z",
     "iopub.status.busy": "2022-09-27T21:26:21.349902Z",
     "iopub.status.idle": "2022-09-27T21:26:21.360918Z",
     "shell.execute_reply": "2022-09-27T21:26:21.359923Z"
    },
    "papermill": {
     "duration": 0.101956,
     "end_time": "2022-09-27T21:26:21.362916",
     "exception": false,
     "start_time": "2022-09-27T21:26:21.260960",
     "status": "completed"
    },
    "tags": []
   },
   "outputs": [],
   "source": [
    "df5 = df_tree.copy()"
   ]
  },
  {
   "cell_type": "markdown",
   "id": "e8add82f",
   "metadata": {
    "papermill": {
     "duration": 0.086944,
     "end_time": "2022-09-27T21:26:21.912638",
     "exception": false,
     "start_time": "2022-09-27T21:26:21.825694",
     "status": "completed"
    },
    "tags": []
   },
   "source": [
    "# 6.0 Feature Selection"
   ]
  },
  {
   "cell_type": "code",
   "execution_count": 70,
   "id": "6fd10043",
   "metadata": {
    "ExecuteTime": {
     "end_time": "2022-09-27T11:52:06.712696Z",
     "start_time": "2022-09-27T11:52:06.706698Z"
    },
    "execution": {
     "iopub.execute_input": "2022-09-27T21:26:22.090523Z",
     "iopub.status.busy": "2022-09-27T21:26:22.090523Z",
     "iopub.status.idle": "2022-09-27T21:26:22.108568Z",
     "shell.execute_reply": "2022-09-27T21:26:22.107572Z"
    },
    "papermill": {
     "duration": 0.110989,
     "end_time": "2022-09-27T21:26:22.111568",
     "exception": false,
     "start_time": "2022-09-27T21:26:22.000579",
     "status": "completed"
    },
    "tags": []
   },
   "outputs": [],
   "source": [
    "df6 = df_tree.copy()"
   ]
  },
  {
   "cell_type": "markdown",
   "id": "30146f62",
   "metadata": {
    "papermill": {
     "duration": 0.086942,
     "end_time": "2022-09-27T21:26:22.316434",
     "exception": false,
     "start_time": "2022-09-27T21:26:22.229492",
     "status": "completed"
    },
    "tags": []
   },
   "source": [
    "# 7.0 Hyperparameter Fine-Tunning"
   ]
  },
  {
   "cell_type": "code",
   "execution_count": 72,
   "id": "5c759af1",
   "metadata": {
    "ExecuteTime": {
     "end_time": "2022-09-27T11:52:09.290823Z",
     "start_time": "2022-09-27T11:52:09.282828Z"
    },
    "execution": {
     "iopub.execute_input": "2022-09-27T21:26:22.684308Z",
     "iopub.status.busy": "2022-09-27T21:26:22.684308Z",
     "iopub.status.idle": "2022-09-27T21:26:22.694444Z",
     "shell.execute_reply": "2022-09-27T21:26:22.694444Z"
    },
    "papermill": {
     "duration": 0.104072,
     "end_time": "2022-09-27T21:26:22.697438",
     "exception": false,
     "start_time": "2022-09-27T21:26:22.593366",
     "status": "completed"
    },
    "tags": []
   },
   "outputs": [],
   "source": [
    "X = df_tree.copy()"
   ]
  },
  {
   "cell_type": "code",
   "execution_count": 73,
   "id": "b0993af0",
   "metadata": {
    "ExecuteTime": {
     "end_time": "2022-09-27T11:52:10.250960Z",
     "start_time": "2022-09-27T11:52:10.235968Z"
    },
    "execution": {
     "iopub.execute_input": "2022-09-27T21:26:22.872324Z",
     "iopub.status.busy": "2022-09-27T21:26:22.872324Z",
     "iopub.status.idle": "2022-09-27T21:26:22.893474Z",
     "shell.execute_reply": "2022-09-27T21:26:22.893474Z"
    },
    "papermill": {
     "duration": 0.112097,
     "end_time": "2022-09-27T21:26:22.896478",
     "exception": false,
     "start_time": "2022-09-27T21:26:22.784381",
     "status": "completed"
    },
    "tags": []
   },
   "outputs": [
    {
     "data": {
      "text/html": [
       "<div>\n",
       "<style scoped>\n",
       "    .dataframe tbody tr th:only-of-type {\n",
       "        vertical-align: middle;\n",
       "    }\n",
       "\n",
       "    .dataframe tbody tr th {\n",
       "        vertical-align: top;\n",
       "    }\n",
       "\n",
       "    .dataframe thead th {\n",
       "        text-align: right;\n",
       "    }\n",
       "</style>\n",
       "<table border=\"1\" class=\"dataframe\">\n",
       "  <thead>\n",
       "    <tr style=\"text-align: right;\">\n",
       "      <th></th>\n",
       "      <th>embedding_x</th>\n",
       "      <th>embedding_y</th>\n",
       "    </tr>\n",
       "  </thead>\n",
       "  <tbody>\n",
       "    <tr>\n",
       "      <th>0</th>\n",
       "      <td>10.136566</td>\n",
       "      <td>18.672249</td>\n",
       "    </tr>\n",
       "    <tr>\n",
       "      <th>1</th>\n",
       "      <td>18.619751</td>\n",
       "      <td>10.139460</td>\n",
       "    </tr>\n",
       "    <tr>\n",
       "      <th>2</th>\n",
       "      <td>11.208997</td>\n",
       "      <td>18.839911</td>\n",
       "    </tr>\n",
       "    <tr>\n",
       "      <th>3</th>\n",
       "      <td>-2.429976</td>\n",
       "      <td>0.271937</td>\n",
       "    </tr>\n",
       "    <tr>\n",
       "      <th>4</th>\n",
       "      <td>-5.209744</td>\n",
       "      <td>8.388730</td>\n",
       "    </tr>\n",
       "  </tbody>\n",
       "</table>\n",
       "</div>"
      ],
      "text/plain": [
       "   embedding_x  embedding_y\n",
       "0    10.136566    18.672249\n",
       "1    18.619751    10.139460\n",
       "2    11.208997    18.839911\n",
       "3    -2.429976     0.271937\n",
       "4    -5.209744     8.388730"
      ]
     },
     "execution_count": 73,
     "metadata": {},
     "output_type": "execute_result"
    }
   ],
   "source": [
    "X.head()"
   ]
  },
  {
   "cell_type": "code",
   "execution_count": 74,
   "id": "2f4157f5",
   "metadata": {
    "ExecuteTime": {
     "end_time": "2022-09-21T23:59:03.720315Z",
     "start_time": "2022-09-21T23:59:03.703329Z"
    },
    "execution": {
     "iopub.execute_input": "2022-09-27T21:26:23.074364Z",
     "iopub.status.busy": "2022-09-27T21:26:23.073369Z",
     "iopub.status.idle": "2022-09-27T21:26:23.082378Z",
     "shell.execute_reply": "2022-09-27T21:26:23.081375Z"
    },
    "papermill": {
     "duration": 0.099957,
     "end_time": "2022-09-27T21:26:23.084377",
     "exception": false,
     "start_time": "2022-09-27T21:26:22.984420",
     "status": "completed"
    },
    "tags": []
   },
   "outputs": [],
   "source": [
    "#clusters = [2, 3, 4, 5, 6, 7]"
   ]
  },
  {
   "cell_type": "code",
   "execution_count": 75,
   "id": "4f67e2bb",
   "metadata": {
    "ExecuteTime": {
     "end_time": "2022-09-27T11:52:13.213018Z",
     "start_time": "2022-09-27T11:52:13.203026Z"
    },
    "execution": {
     "iopub.execute_input": "2022-09-27T21:26:23.262264Z",
     "iopub.status.busy": "2022-09-27T21:26:23.262264Z",
     "iopub.status.idle": "2022-09-27T21:26:23.273306Z",
     "shell.execute_reply": "2022-09-27T21:26:23.273306Z"
    },
    "papermill": {
     "duration": 0.102987,
     "end_time": "2022-09-27T21:26:23.276308",
     "exception": false,
     "start_time": "2022-09-27T21:26:23.173321",
     "status": "completed"
    },
    "tags": []
   },
   "outputs": [
    {
     "data": {
      "text/plain": [
       "array([ 2,  3,  4,  5,  6,  7,  8,  9, 10, 11, 12, 13, 14, 15, 16, 17, 18,\n",
       "       19, 20, 21, 22, 23, 24])"
      ]
     },
     "execution_count": 75,
     "metadata": {},
     "output_type": "execute_result"
    }
   ],
   "source": [
    "clusters = np.arange( 2, 25, 1)\n",
    "clusters"
   ]
  },
  {
   "cell_type": "markdown",
   "id": "3478f8bd",
   "metadata": {
    "papermill": {
     "duration": 0.087943,
     "end_time": "2022-09-27T21:26:23.451198",
     "exception": false,
     "start_time": "2022-09-27T21:26:23.363255",
     "status": "completed"
    },
    "tags": []
   },
   "source": [
    "## 7.1 K-Means"
   ]
  },
  {
   "cell_type": "code",
   "execution_count": 76,
   "id": "7d65fd8d",
   "metadata": {
    "ExecuteTime": {
     "end_time": "2022-09-27T11:52:17.363287Z",
     "start_time": "2022-09-27T11:52:17.346297Z"
    },
    "execution": {
     "iopub.execute_input": "2022-09-27T21:26:23.630083Z",
     "iopub.status.busy": "2022-09-27T21:26:23.630083Z",
     "iopub.status.idle": "2022-09-27T21:26:23.648564Z",
     "shell.execute_reply": "2022-09-27T21:26:23.647559Z"
    },
    "papermill": {
     "duration": 0.111424,
     "end_time": "2022-09-27T21:26:23.650563",
     "exception": false,
     "start_time": "2022-09-27T21:26:23.539139",
     "status": "completed"
    },
    "tags": []
   },
   "outputs": [],
   "source": [
    "from sklearn import metrics as m"
   ]
  },
  {
   "cell_type": "code",
   "execution_count": 77,
   "id": "42dac17c",
   "metadata": {
    "ExecuteTime": {
     "end_time": "2022-09-27T11:52:24.802662Z",
     "start_time": "2022-09-27T11:52:18.355340Z"
    },
    "execution": {
     "iopub.execute_input": "2022-09-27T21:26:23.827448Z",
     "iopub.status.busy": "2022-09-27T21:26:23.826450Z",
     "iopub.status.idle": "2022-09-27T21:26:30.208379Z",
     "shell.execute_reply": "2022-09-27T21:26:30.207377Z"
    },
    "papermill": {
     "duration": 6.472874,
     "end_time": "2022-09-27T21:26:30.210379",
     "exception": false,
     "start_time": "2022-09-27T21:26:23.737505",
     "status": "completed"
    },
    "tags": []
   },
   "outputs": [],
   "source": [
    "kmeans_list = []\n",
    "for k in clusters:\n",
    "    # model definition\n",
    "    kmeans_model = c.KMeans( n_clusters=k )\n",
    "\n",
    "    # model training\n",
    "    kmeans_model.fit( X )\n",
    "\n",
    "    # model predict\n",
    "    labels = kmeans_model.predict( X )\n",
    "\n",
    "    # model performance\n",
    "    sil = m.silhouette_score( X, labels, metric='euclidean' )\n",
    "    kmeans_list.append( sil )"
   ]
  },
  {
   "cell_type": "code",
   "execution_count": 78,
   "id": "99a78fbb",
   "metadata": {
    "ExecuteTime": {
     "end_time": "2022-09-26T23:03:19.617972Z",
     "start_time": "2022-09-26T23:03:19.246178Z"
    },
    "execution": {
     "iopub.execute_input": "2022-09-27T21:26:30.390265Z",
     "iopub.status.busy": "2022-09-27T21:26:30.390265Z",
     "iopub.status.idle": "2022-09-27T21:26:30.685836Z",
     "shell.execute_reply": "2022-09-27T21:26:30.685122Z"
    },
    "papermill": {
     "duration": 0.38752,
     "end_time": "2022-09-27T21:26:30.687840",
     "exception": false,
     "start_time": "2022-09-27T21:26:30.300320",
     "status": "completed"
    },
    "tags": []
   },
   "outputs": [
    {
     "data": {
      "image/png": "[encoded data removed]",
      "text/plain": [
       "<Figure size 1728x648 with 1 Axes>"
      ]
     },
     "metadata": {},
     "output_type": "display_data"
    }
   ],
   "source": [
    "plt.plot( clusters, kmeans_list, linestyle='--', marker='o', color='b' )\n",
    "plt.xlabel( 'K' );\n",
    "plt.ylabel( 'Silhouette Score' );\n",
    "plt.title( 'Silhouette Score x K' );"
   ]
  },
  {
   "cell_type": "markdown",
   "id": "41cc8a8e",
   "metadata": {
    "papermill": {
     "duration": 0.08994,
     "end_time": "2022-09-27T21:26:30.865723",
     "exception": false,
     "start_time": "2022-09-27T21:26:30.775783",
     "status": "completed"
    },
    "tags": []
   },
   "source": [
    "## 7.2 GMM"
   ]
  },
  {
   "cell_type": "code",
   "execution_count": 79,
   "id": "c5780f32",
   "metadata": {
    "ExecuteTime": {
     "end_time": "2022-09-26T23:03:32.752924Z",
     "start_time": "2022-09-26T23:03:25.623091Z"
    },
    "execution": {
     "iopub.execute_input": "2022-09-27T21:26:31.045608Z",
     "iopub.status.busy": "2022-09-27T21:26:31.044609Z",
     "iopub.status.idle": "2022-09-27T21:26:36.979979Z",
     "shell.execute_reply": "2022-09-27T21:26:36.979979Z"
    },
    "papermill": {
     "duration": 6.029311,
     "end_time": "2022-09-27T21:26:36.982977",
     "exception": false,
     "start_time": "2022-09-27T21:26:30.953666",
     "status": "completed"
    },
    "tags": []
   },
   "outputs": [],
   "source": [
    "gmm_list = []\n",
    "for k in clusters:\n",
    "    # model definition\n",
    "    gmm_model = mx.GaussianMixture( n_components=k )\n",
    "\n",
    "    # model training\n",
    "    gmm_model.fit( X )\n",
    "\n",
    "    # model predict\n",
    "    labels = gmm_model.predict( X )\n",
    "\n",
    "    # model performance\n",
    "    sil = m.silhouette_score( X, labels, metric='euclidean' )\n",
    "    gmm_list.append( sil )"
   ]
  },
  {
   "cell_type": "code",
   "execution_count": 80,
   "id": "1569ea27",
   "metadata": {
    "ExecuteTime": {
     "end_time": "2022-09-26T23:03:33.116705Z",
     "start_time": "2022-09-26T23:03:32.755923Z"
    },
    "execution": {
     "iopub.execute_input": "2022-09-27T21:26:37.161863Z",
     "iopub.status.busy": "2022-09-27T21:26:37.161863Z",
     "iopub.status.idle": "2022-09-27T21:26:37.453476Z",
     "shell.execute_reply": "2022-09-27T21:26:37.452481Z"
    },
    "papermill": {
     "duration": 0.384556,
     "end_time": "2022-09-27T21:26:37.455476",
     "exception": false,
     "start_time": "2022-09-27T21:26:37.070920",
     "status": "completed"
    },
    "tags": []
   },
   "outputs": [
    {
     "data": {
      "image/png": "[encoded data removed]",
      "text/plain": [
       "<Figure size 1728x648 with 1 Axes>"
      ]
     },
     "metadata": {},
     "output_type": "display_data"
    }
   ],
   "source": [
    "plt.plot( clusters, gmm_list, linestyle='--', marker='o', color='b' )\n",
    "plt.xlabel( 'k');\n",
    "plt.ylabel( 'Silhouette Score');\n",
    "plt.title( 'Sil x K');"
   ]
  },
  {
   "cell_type": "markdown",
   "id": "775f7c6e",
   "metadata": {},
   "source": [
    "## 7.5 Results"
   ]
  },
  {
   "cell_type": "code",
   "execution_count": null,
   "id": "cb59e1ba",
   "metadata": {},
   "outputs": [],
   "source": [
    "# Model Name | k=2 | k=3 | k=4 | k=5 | ...\n",
    "#  Kmeans      SS    SS    SS    SS\n",
    "#  GMM         SS    SS    SS    SS\n",
    "#  HC         SS     SS    SS    SS\n",
    "#  DBSCAN     SS    SS    SS    SS\n",
    "\n",
    "df_results = pd.DataFrame( \n",
    "    {'KMeans': kmeans_list, \n",
    "     'GMM': gmm_list}\n",
    ").T\n",
    "\n",
    "df_results.columns = clusters"
   ]
  },
  {
   "cell_type": "code",
   "execution_count": 93,
   "id": "42ec9f4d",
   "metadata": {
    "ExecuteTime": {
     "end_time": "2022-09-21T23:59:44.919011Z",
     "start_time": "2022-09-21T23:59:44.893027Z"
    },
    "execution": {
     "iopub.execute_input": "2022-09-27T21:28:15.209916Z",
     "iopub.status.busy": "2022-09-27T21:28:15.209916Z",
     "iopub.status.idle": "2022-09-27T21:28:15.278874Z",
     "shell.execute_reply": "2022-09-27T21:28:15.278874Z"
    },
    "papermill": {
     "duration": 0.174889,
     "end_time": "2022-09-27T21:28:15.281870",
     "exception": false,
     "start_time": "2022-09-27T21:28:15.106981",
     "status": "completed"
    },
    "tags": []
   },
   "outputs": [
    {
     "data": {
      "text/html": [
       "<style type=\"text/css\">\n",
       "#T_932e8_row0_col10, #T_932e8_row1_col13, #T_932e8_row2_col11 {\n",
       "  background-color: lightgreen;\n",
       "}\n",
       "</style>\n",
       "<table id=\"T_932e8\">\n",
       "  <thead>\n",
       "    <tr>\n",
       "      <th class=\"blank level0\" >&nbsp;</th>\n",
       "      <th id=\"T_932e8_level0_col0\" class=\"col_heading level0 col0\" >2</th>\n",
       "      <th id=\"T_932e8_level0_col1\" class=\"col_heading level0 col1\" >3</th>\n",
       "      <th id=\"T_932e8_level0_col2\" class=\"col_heading level0 col2\" >4</th>\n",
       "      <th id=\"T_932e8_level0_col3\" class=\"col_heading level0 col3\" >5</th>\n",
       "      <th id=\"T_932e8_level0_col4\" class=\"col_heading level0 col4\" >6</th>\n",
       "      <th id=\"T_932e8_level0_col5\" class=\"col_heading level0 col5\" >7</th>\n",
       "      <th id=\"T_932e8_level0_col6\" class=\"col_heading level0 col6\" >8</th>\n",
       "      <th id=\"T_932e8_level0_col7\" class=\"col_heading level0 col7\" >9</th>\n",
       "      <th id=\"T_932e8_level0_col8\" class=\"col_heading level0 col8\" >10</th>\n",
       "      <th id=\"T_932e8_level0_col9\" class=\"col_heading level0 col9\" >11</th>\n",
       "      <th id=\"T_932e8_level0_col10\" class=\"col_heading level0 col10\" >12</th>\n",
       "      <th id=\"T_932e8_level0_col11\" class=\"col_heading level0 col11\" >13</th>\n",
       "      <th id=\"T_932e8_level0_col12\" class=\"col_heading level0 col12\" >14</th>\n",
       "      <th id=\"T_932e8_level0_col13\" class=\"col_heading level0 col13\" >15</th>\n",
       "      <th id=\"T_932e8_level0_col14\" class=\"col_heading level0 col14\" >16</th>\n",
       "      <th id=\"T_932e8_level0_col15\" class=\"col_heading level0 col15\" >17</th>\n",
       "      <th id=\"T_932e8_level0_col16\" class=\"col_heading level0 col16\" >18</th>\n",
       "      <th id=\"T_932e8_level0_col17\" class=\"col_heading level0 col17\" >19</th>\n",
       "      <th id=\"T_932e8_level0_col18\" class=\"col_heading level0 col18\" >20</th>\n",
       "      <th id=\"T_932e8_level0_col19\" class=\"col_heading level0 col19\" >21</th>\n",
       "      <th id=\"T_932e8_level0_col20\" class=\"col_heading level0 col20\" >22</th>\n",
       "      <th id=\"T_932e8_level0_col21\" class=\"col_heading level0 col21\" >23</th>\n",
       "      <th id=\"T_932e8_level0_col22\" class=\"col_heading level0 col22\" >24</th>\n",
       "    </tr>\n",
       "  </thead>\n",
       "  <tbody>\n",
       "    <tr>\n",
       "      <th id=\"T_932e8_level0_row0\" class=\"row_heading level0 row0\" >KMeans</th>\n",
       "      <td id=\"T_932e8_row0_col0\" class=\"data row0 col0\" >0.404727</td>\n",
       "      <td id=\"T_932e8_row0_col1\" class=\"data row0 col1\" >0.458060</td>\n",
       "      <td id=\"T_932e8_row0_col2\" class=\"data row0 col2\" >0.534917</td>\n",
       "      <td id=\"T_932e8_row0_col3\" class=\"data row0 col3\" >0.549402</td>\n",
       "      <td id=\"T_932e8_row0_col4\" class=\"data row0 col4\" >0.604678</td>\n",
       "      <td id=\"T_932e8_row0_col5\" class=\"data row0 col5\" >0.631019</td>\n",
       "      <td id=\"T_932e8_row0_col6\" class=\"data row0 col6\" >0.644685</td>\n",
       "      <td id=\"T_932e8_row0_col7\" class=\"data row0 col7\" >0.652816</td>\n",
       "      <td id=\"T_932e8_row0_col8\" class=\"data row0 col8\" >0.676191</td>\n",
       "      <td id=\"T_932e8_row0_col9\" class=\"data row0 col9\" >0.686173</td>\n",
       "      <td id=\"T_932e8_row0_col10\" class=\"data row0 col10\" >0.696737</td>\n",
       "      <td id=\"T_932e8_row0_col11\" class=\"data row0 col11\" >0.672223</td>\n",
       "      <td id=\"T_932e8_row0_col12\" class=\"data row0 col12\" >0.683086</td>\n",
       "      <td id=\"T_932e8_row0_col13\" class=\"data row0 col13\" >0.676729</td>\n",
       "      <td id=\"T_932e8_row0_col14\" class=\"data row0 col14\" >0.665035</td>\n",
       "      <td id=\"T_932e8_row0_col15\" class=\"data row0 col15\" >0.684265</td>\n",
       "      <td id=\"T_932e8_row0_col16\" class=\"data row0 col16\" >0.600152</td>\n",
       "      <td id=\"T_932e8_row0_col17\" class=\"data row0 col17\" >0.667279</td>\n",
       "      <td id=\"T_932e8_row0_col18\" class=\"data row0 col18\" >0.665076</td>\n",
       "      <td id=\"T_932e8_row0_col19\" class=\"data row0 col19\" >0.638377</td>\n",
       "      <td id=\"T_932e8_row0_col20\" class=\"data row0 col20\" >0.635799</td>\n",
       "      <td id=\"T_932e8_row0_col21\" class=\"data row0 col21\" >0.633851</td>\n",
       "      <td id=\"T_932e8_row0_col22\" class=\"data row0 col22\" >0.655046</td>\n",
       "    </tr>\n",
       "    <tr>\n",
       "      <th id=\"T_932e8_level0_row1\" class=\"row_heading level0 row1\" >GMM</th>\n",
       "      <td id=\"T_932e8_row1_col0\" class=\"data row1 col0\" >0.408953</td>\n",
       "      <td id=\"T_932e8_row1_col1\" class=\"data row1 col1\" >0.424774</td>\n",
       "      <td id=\"T_932e8_row1_col2\" class=\"data row1 col2\" >0.457540</td>\n",
       "      <td id=\"T_932e8_row1_col3\" class=\"data row1 col3\" >0.539011</td>\n",
       "      <td id=\"T_932e8_row1_col4\" class=\"data row1 col4\" >0.544966</td>\n",
       "      <td id=\"T_932e8_row1_col5\" class=\"data row1 col5\" >0.633288</td>\n",
       "      <td id=\"T_932e8_row1_col6\" class=\"data row1 col6\" >0.646334</td>\n",
       "      <td id=\"T_932e8_row1_col7\" class=\"data row1 col7\" >0.652850</td>\n",
       "      <td id=\"T_932e8_row1_col8\" class=\"data row1 col8\" >0.676228</td>\n",
       "      <td id=\"T_932e8_row1_col9\" class=\"data row1 col9\" >0.686173</td>\n",
       "      <td id=\"T_932e8_row1_col10\" class=\"data row1 col10\" >0.661146</td>\n",
       "      <td id=\"T_932e8_row1_col11\" class=\"data row1 col11\" >0.718386</td>\n",
       "      <td id=\"T_932e8_row1_col12\" class=\"data row1 col12\" >0.656886</td>\n",
       "      <td id=\"T_932e8_row1_col13\" class=\"data row1 col13\" >0.721429</td>\n",
       "      <td id=\"T_932e8_row1_col14\" class=\"data row1 col14\" >0.674817</td>\n",
       "      <td id=\"T_932e8_row1_col15\" class=\"data row1 col15\" >0.651489</td>\n",
       "      <td id=\"T_932e8_row1_col16\" class=\"data row1 col16\" >0.602796</td>\n",
       "      <td id=\"T_932e8_row1_col17\" class=\"data row1 col17\" >0.672876</td>\n",
       "      <td id=\"T_932e8_row1_col18\" class=\"data row1 col18\" >0.647226</td>\n",
       "      <td id=\"T_932e8_row1_col19\" class=\"data row1 col19\" >0.619285</td>\n",
       "      <td id=\"T_932e8_row1_col20\" class=\"data row1 col20\" >0.641282</td>\n",
       "      <td id=\"T_932e8_row1_col21\" class=\"data row1 col21\" >0.592093</td>\n",
       "      <td id=\"T_932e8_row1_col22\" class=\"data row1 col22\" >0.620366</td>\n",
       "    </tr>\n",
       "    <tr>\n",
       "      <th id=\"T_932e8_level0_row2\" class=\"row_heading level0 row2\" >HC</th>\n",
       "      <td id=\"T_932e8_row2_col0\" class=\"data row2 col0\" >0.380836</td>\n",
       "      <td id=\"T_932e8_row2_col1\" class=\"data row2 col1\" >0.452735</td>\n",
       "      <td id=\"T_932e8_row2_col2\" class=\"data row2 col2\" >0.516634</td>\n",
       "      <td id=\"T_932e8_row2_col3\" class=\"data row2 col3\" >0.527478</td>\n",
       "      <td id=\"T_932e8_row2_col4\" class=\"data row2 col4\" >0.576391</td>\n",
       "      <td id=\"T_932e8_row2_col5\" class=\"data row2 col5\" >0.613312</td>\n",
       "      <td id=\"T_932e8_row2_col6\" class=\"data row2 col6\" >0.656887</td>\n",
       "      <td id=\"T_932e8_row2_col7\" class=\"data row2 col7\" >0.666879</td>\n",
       "      <td id=\"T_932e8_row2_col8\" class=\"data row2 col8\" >0.657450</td>\n",
       "      <td id=\"T_932e8_row2_col9\" class=\"data row2 col9\" >0.670342</td>\n",
       "      <td id=\"T_932e8_row2_col10\" class=\"data row2 col10\" >0.696737</td>\n",
       "      <td id=\"T_932e8_row2_col11\" class=\"data row2 col11\" >0.718386</td>\n",
       "      <td id=\"T_932e8_row2_col12\" class=\"data row2 col12\" >0.693873</td>\n",
       "      <td id=\"T_932e8_row2_col13\" class=\"data row2 col13\" >0.681525</td>\n",
       "      <td id=\"T_932e8_row2_col14\" class=\"data row2 col14\" >0.669653</td>\n",
       "      <td id=\"T_932e8_row2_col15\" class=\"data row2 col15\" >0.684822</td>\n",
       "      <td id=\"T_932e8_row2_col16\" class=\"data row2 col16\" >0.700526</td>\n",
       "      <td id=\"T_932e8_row2_col17\" class=\"data row2 col17\" >0.680117</td>\n",
       "      <td id=\"T_932e8_row2_col18\" class=\"data row2 col18\" >0.652154</td>\n",
       "      <td id=\"T_932e8_row2_col19\" class=\"data row2 col19\" >0.650017</td>\n",
       "      <td id=\"T_932e8_row2_col20\" class=\"data row2 col20\" >0.652920</td>\n",
       "      <td id=\"T_932e8_row2_col21\" class=\"data row2 col21\" >0.649995</td>\n",
       "      <td id=\"T_932e8_row2_col22\" class=\"data row2 col22\" >0.645402</td>\n",
       "    </tr>\n",
       "  </tbody>\n",
       "</table>\n"
      ],
      "text/plain": [
       "<pandas.io.formats.style.Styler at 0x24dcbea5760>"
      ]
     },
     "execution_count": 93,
     "metadata": {},
     "output_type": "execute_result"
    }
   ],
   "source": [
    "df_results.style.highlight_max( color='lightgreen', axis=1 )"
   ]
  },
  {
   "cell_type": "markdown",
   "id": "57ae71ea",
   "metadata": {
    "papermill": {
     "duration": 0.099935,
     "end_time": "2022-09-27T21:28:34.155059",
     "exception": false,
     "start_time": "2022-09-27T21:28:34.055124",
     "status": "completed"
    },
    "tags": []
   },
   "source": [
    "# 8.0 Model Training"
   ]
  },
  {
   "cell_type": "markdown",
   "id": "26f3cadd",
   "metadata": {
    "papermill": {
     "duration": 0.099935,
     "end_time": "2022-09-27T21:28:34.353931",
     "exception": false,
     "start_time": "2022-09-27T21:28:34.253996",
     "status": "completed"
    },
    "tags": []
   },
   "source": [
    "## 8.1 K-Means"
   ]
  },
  {
   "cell_type": "code",
   "execution_count": 95,
   "id": "a40665fc",
   "metadata": {
    "ExecuteTime": {
     "end_time": "2022-09-27T11:53:09.184832Z",
     "start_time": "2022-09-27T11:53:09.177835Z"
    },
    "execution": {
     "iopub.execute_input": "2022-09-27T21:28:34.552803Z",
     "iopub.status.busy": "2022-09-27T21:28:34.552803Z",
     "iopub.status.idle": "2022-09-27T21:28:34.563830Z",
     "shell.execute_reply": "2022-09-27T21:28:34.562824Z"
    },
    "papermill": {
     "duration": 0.11396,
     "end_time": "2022-09-27T21:28:34.565828",
     "exception": false,
     "start_time": "2022-09-27T21:28:34.451868",
     "status": "completed"
    },
    "tags": []
   },
   "outputs": [],
   "source": [
    "# model definition\n",
    "k = 8"
   ]
  },
  {
   "cell_type": "code",
   "execution_count": 97,
   "id": "043194cb",
   "metadata": {
    "ExecuteTime": {
     "end_time": "2022-09-27T11:53:19.812275Z",
     "start_time": "2022-09-27T11:53:11.901977Z"
    },
    "execution": {
     "iopub.execute_input": "2022-09-27T21:28:34.987450Z",
     "iopub.status.busy": "2022-09-27T21:28:34.987450Z",
     "iopub.status.idle": "2022-09-27T21:28:42.807425Z",
     "shell.execute_reply": "2022-09-27T21:28:42.807425Z"
    },
    "papermill": {
     "duration": 7.922911,
     "end_time": "2022-09-27T21:28:42.810424",
     "exception": false,
     "start_time": "2022-09-27T21:28:34.887513",
     "status": "completed"
    },
    "tags": []
   },
   "outputs": [],
   "source": [
    "## model definition\n",
    "gmm_model = mx.GaussianMixture( n_components=k, n_init=300, random_state=32 )\n",
    "\n",
    "# model training\n",
    "gmm_model.fit( X )\n",
    "\n",
    "# model predict\n",
    "labels = gmm_model.predict( X )"
   ]
  },
  {
   "cell_type": "markdown",
   "id": "091c0c59",
   "metadata": {
    "papermill": {
     "duration": 0.099382,
     "end_time": "2022-09-27T21:28:43.011741",
     "exception": false,
     "start_time": "2022-09-27T21:28:42.912359",
     "status": "completed"
    },
    "tags": []
   },
   "source": [
    "## 8.2 Cluster Validation"
   ]
  },
  {
   "cell_type": "code",
   "execution_count": 98,
   "id": "416f9ba8",
   "metadata": {
    "ExecuteTime": {
     "end_time": "2022-09-27T11:53:23.090337Z",
     "start_time": "2022-09-27T11:53:22.893448Z"
    },
    "execution": {
     "iopub.execute_input": "2022-09-27T21:28:43.211613Z",
     "iopub.status.busy": "2022-09-27T21:28:43.211613Z",
     "iopub.status.idle": "2022-09-27T21:28:43.407547Z",
     "shell.execute_reply": "2022-09-27T21:28:43.406551Z"
    },
    "papermill": {
     "duration": 0.298869,
     "end_time": "2022-09-27T21:28:43.409546",
     "exception": false,
     "start_time": "2022-09-27T21:28:43.110677",
     "status": "completed"
    },
    "tags": []
   },
   "outputs": [
    {
     "name": "stdout",
     "output_type": "stream",
     "text": [
      "SS value: 0.6458191275596619\n"
     ]
    }
   ],
   "source": [
    "## SS ( Silhouette Score )\n",
    "print( 'SS value: {}'.format( m.silhouette_score( X, labels, metric='euclidean' ) ) )"
   ]
  },
  {
   "cell_type": "markdown",
   "id": "d34bf2a5",
   "metadata": {
    "papermill": {
     "duration": 0.103916,
     "end_time": "2022-09-27T21:28:43.612396",
     "exception": false,
     "start_time": "2022-09-27T21:28:43.508480",
     "status": "completed"
    },
    "tags": []
   },
   "source": [
    "# 9.0 Cluster Analysis"
   ]
  },
  {
   "cell_type": "code",
   "execution_count": 100,
   "id": "8e0ac169",
   "metadata": {
    "ExecuteTime": {
     "end_time": "2022-09-27T11:53:29.302844Z",
     "start_time": "2022-09-27T11:53:29.285854Z"
    },
    "execution": {
     "iopub.execute_input": "2022-09-27T21:28:44.034385Z",
     "iopub.status.busy": "2022-09-27T21:28:44.034385Z",
     "iopub.status.idle": "2022-09-27T21:28:44.053474Z",
     "shell.execute_reply": "2022-09-27T21:28:44.052470Z"
    },
    "papermill": {
     "duration": 0.124023,
     "end_time": "2022-09-27T21:28:44.055474",
     "exception": false,
     "start_time": "2022-09-27T21:28:43.931451",
     "status": "completed"
    },
    "tags": []
   },
   "outputs": [],
   "source": [
    "df9 = X.copy()\n",
    "df9['cluster'] = labels"
   ]
  },
  {
   "cell_type": "code",
   "execution_count": 101,
   "id": "64d21dde",
   "metadata": {
    "ExecuteTime": {
     "end_time": "2022-09-27T11:53:31.688023Z",
     "start_time": "2022-09-27T11:53:31.663037Z"
    },
    "execution": {
     "iopub.execute_input": "2022-09-27T21:28:44.257345Z",
     "iopub.status.busy": "2022-09-27T21:28:44.257345Z",
     "iopub.status.idle": "2022-09-27T21:28:44.274763Z",
     "shell.execute_reply": "2022-09-27T21:28:44.273752Z"
    },
    "papermill": {
     "duration": 0.122342,
     "end_time": "2022-09-27T21:28:44.276753",
     "exception": false,
     "start_time": "2022-09-27T21:28:44.154411",
     "status": "completed"
    },
    "tags": []
   },
   "outputs": [
    {
     "data": {
      "text/html": [
       "<div>\n",
       "<style scoped>\n",
       "    .dataframe tbody tr th:only-of-type {\n",
       "        vertical-align: middle;\n",
       "    }\n",
       "\n",
       "    .dataframe tbody tr th {\n",
       "        vertical-align: top;\n",
       "    }\n",
       "\n",
       "    .dataframe thead th {\n",
       "        text-align: right;\n",
       "    }\n",
       "</style>\n",
       "<table border=\"1\" class=\"dataframe\">\n",
       "  <thead>\n",
       "    <tr style=\"text-align: right;\">\n",
       "      <th></th>\n",
       "      <th>embedding_x</th>\n",
       "      <th>embedding_y</th>\n",
       "      <th>cluster</th>\n",
       "    </tr>\n",
       "  </thead>\n",
       "  <tbody>\n",
       "    <tr>\n",
       "      <th>0</th>\n",
       "      <td>10.136566</td>\n",
       "      <td>18.672249</td>\n",
       "      <td>3</td>\n",
       "    </tr>\n",
       "    <tr>\n",
       "      <th>1</th>\n",
       "      <td>18.619751</td>\n",
       "      <td>10.139460</td>\n",
       "      <td>6</td>\n",
       "    </tr>\n",
       "    <tr>\n",
       "      <th>2</th>\n",
       "      <td>11.208997</td>\n",
       "      <td>18.839911</td>\n",
       "      <td>3</td>\n",
       "    </tr>\n",
       "    <tr>\n",
       "      <th>3</th>\n",
       "      <td>-2.429976</td>\n",
       "      <td>0.271937</td>\n",
       "      <td>7</td>\n",
       "    </tr>\n",
       "    <tr>\n",
       "      <th>4</th>\n",
       "      <td>-5.209744</td>\n",
       "      <td>8.388730</td>\n",
       "      <td>1</td>\n",
       "    </tr>\n",
       "  </tbody>\n",
       "</table>\n",
       "</div>"
      ],
      "text/plain": [
       "   embedding_x  embedding_y  cluster\n",
       "0    10.136566    18.672249        3\n",
       "1    18.619751    10.139460        6\n",
       "2    11.208997    18.839911        3\n",
       "3    -2.429976     0.271937        7\n",
       "4    -5.209744     8.388730        1"
      ]
     },
     "execution_count": 101,
     "metadata": {},
     "output_type": "execute_result"
    }
   ],
   "source": [
    "df9.head()"
   ]
  },
  {
   "cell_type": "markdown",
   "id": "a4b77c29",
   "metadata": {
    "papermill": {
     "duration": 0.100936,
     "end_time": "2022-09-27T21:28:44.477627",
     "exception": false,
     "start_time": "2022-09-27T21:28:44.376691",
     "status": "completed"
    },
    "tags": []
   },
   "source": [
    "## 9.1 Visualization Inspection"
   ]
  },
  {
   "cell_type": "code",
   "execution_count": 102,
   "id": "48d9ac63",
   "metadata": {
    "ExecuteTime": {
     "end_time": "2022-09-27T15:04:04.304104Z",
     "start_time": "2022-09-27T15:04:03.518589Z"
    },
    "execution": {
     "iopub.execute_input": "2022-09-27T21:28:44.678498Z",
     "iopub.status.busy": "2022-09-27T21:28:44.678498Z",
     "iopub.status.idle": "2022-09-27T21:28:45.440322Z",
     "shell.execute_reply": "2022-09-27T21:28:45.439310Z"
    },
    "papermill": {
     "duration": 0.865749,
     "end_time": "2022-09-27T21:28:45.442312",
     "exception": false,
     "start_time": "2022-09-27T21:28:44.576563",
     "status": "completed"
    },
    "tags": []
   },
   "outputs": [
    {
     "data": {
      "text/plain": [
       "<AxesSubplot:xlabel='embedding_x', ylabel='embedding_y'>"
      ]
     },
     "execution_count": 102,
     "metadata": {},
     "output_type": "execute_result"
    },
    {
     "data": {
      "image/png": "[encoded data removed]",
      "text/plain": [
       "<Figure size 1728x648 with 1 Axes>"
      ]
     },
     "metadata": {},
     "output_type": "display_data"
    }
   ],
   "source": [
    "sns.scatterplot( x='embedding_x', y='embedding_y', hue='cluster', data=df9, palette='deep')"
   ]
  },
  {
   "cell_type": "markdown",
   "id": "af052c33",
   "metadata": {
    "ExecuteTime": {
     "end_time": "2022-08-24T22:28:55.164977Z",
     "start_time": "2022-08-24T22:28:55.149697Z"
    },
    "papermill": {
     "duration": 0.100938,
     "end_time": "2022-09-27T21:28:45.645184",
     "exception": false,
     "start_time": "2022-09-27T21:28:45.544246",
     "status": "completed"
    },
    "tags": []
   },
   "source": [
    "## 9.2 2D Plot"
   ]
  },
  {
   "cell_type": "code",
   "execution_count": 104,
   "id": "2fe0f44d",
   "metadata": {
    "ExecuteTime": {
     "end_time": "2022-09-27T12:18:00.845220Z",
     "start_time": "2022-09-27T12:18:00.827231Z"
    },
    "execution": {
     "iopub.execute_input": "2022-09-27T21:28:46.071570Z",
     "iopub.status.busy": "2022-09-27T21:28:46.070571Z",
     "iopub.status.idle": "2022-09-27T21:28:46.085613Z",
     "shell.execute_reply": "2022-09-27T21:28:46.085613Z"
    },
    "papermill": {
     "duration": 0.120971,
     "end_time": "2022-09-27T21:28:46.088608",
     "exception": false,
     "start_time": "2022-09-27T21:28:45.967637",
     "status": "completed"
    },
    "tags": []
   },
   "outputs": [],
   "source": [
    "df_viz = df9"
   ]
  },
  {
   "cell_type": "markdown",
   "id": "489fc0a7",
   "metadata": {
    "papermill": {
     "duration": 0.101936,
     "end_time": "2022-09-27T21:28:46.717030",
     "exception": false,
     "start_time": "2022-09-27T21:28:46.615094",
     "status": "completed"
    },
    "tags": []
   },
   "source": [
    "## 9.5 Cluster Profile"
   ]
  },
  {
   "cell_type": "code",
   "execution_count": 106,
   "id": "425931a0",
   "metadata": {
    "ExecuteTime": {
     "end_time": "2022-09-27T12:18:03.203285Z",
     "start_time": "2022-09-27T12:18:03.198289Z"
    },
    "execution": {
     "iopub.execute_input": "2022-09-27T21:28:46.920899Z",
     "iopub.status.busy": "2022-09-27T21:28:46.919898Z",
     "iopub.status.idle": "2022-09-27T21:28:46.934685Z",
     "shell.execute_reply": "2022-09-27T21:28:46.934685Z"
    },
    "papermill": {
     "duration": 0.119724,
     "end_time": "2022-09-27T21:28:46.937690",
     "exception": false,
     "start_time": "2022-09-27T21:28:46.817966",
     "status": "completed"
    },
    "tags": []
   },
   "outputs": [],
   "source": [
    "cols_selected_full = ['customer_id', 'gross_revenue', 'recency_days', 'qtde_products', 'frequency', 'qtde_returns']"
   ]
  },
  {
   "cell_type": "code",
   "execution_count": 107,
   "id": "5c69caf2",
   "metadata": {
    "ExecuteTime": {
     "end_time": "2022-09-27T12:18:03.814266Z",
     "start_time": "2022-09-27T12:18:03.784282Z"
    },
    "execution": {
     "iopub.execute_input": "2022-09-27T21:28:47.143558Z",
     "iopub.status.busy": "2022-09-27T21:28:47.142558Z",
     "iopub.status.idle": "2022-09-27T21:28:47.171613Z",
     "shell.execute_reply": "2022-09-27T21:28:47.170617Z"
    },
    "papermill": {
     "duration": 0.13498,
     "end_time": "2022-09-27T21:28:47.173612",
     "exception": false,
     "start_time": "2022-09-27T21:28:47.038632",
     "status": "completed"
    },
    "tags": []
   },
   "outputs": [
    {
     "data": {
      "text/html": [
       "<div>\n",
       "<style scoped>\n",
       "    .dataframe tbody tr th:only-of-type {\n",
       "        vertical-align: middle;\n",
       "    }\n",
       "\n",
       "    .dataframe tbody tr th {\n",
       "        vertical-align: top;\n",
       "    }\n",
       "\n",
       "    .dataframe thead th {\n",
       "        text-align: right;\n",
       "    }\n",
       "</style>\n",
       "<table border=\"1\" class=\"dataframe\">\n",
       "  <thead>\n",
       "    <tr style=\"text-align: right;\">\n",
       "      <th></th>\n",
       "      <th>customer_id</th>\n",
       "      <th>gross_revenue</th>\n",
       "      <th>recency_days</th>\n",
       "      <th>qtde_products</th>\n",
       "      <th>frequency</th>\n",
       "      <th>qtde_returns</th>\n",
       "      <th>cluster</th>\n",
       "    </tr>\n",
       "  </thead>\n",
       "  <tbody>\n",
       "    <tr>\n",
       "      <th>0</th>\n",
       "      <td>17850</td>\n",
       "      <td>5391.21</td>\n",
       "      <td>372.0</td>\n",
       "      <td>297.0</td>\n",
       "      <td>17.000000</td>\n",
       "      <td>40.0</td>\n",
       "      <td>3</td>\n",
       "    </tr>\n",
       "    <tr>\n",
       "      <th>1</th>\n",
       "      <td>13047</td>\n",
       "      <td>3232.59</td>\n",
       "      <td>56.0</td>\n",
       "      <td>171.0</td>\n",
       "      <td>0.028302</td>\n",
       "      <td>35.0</td>\n",
       "      <td>6</td>\n",
       "    </tr>\n",
       "    <tr>\n",
       "      <th>2</th>\n",
       "      <td>12583</td>\n",
       "      <td>6705.38</td>\n",
       "      <td>2.0</td>\n",
       "      <td>232.0</td>\n",
       "      <td>0.040323</td>\n",
       "      <td>50.0</td>\n",
       "      <td>3</td>\n",
       "    </tr>\n",
       "    <tr>\n",
       "      <th>3</th>\n",
       "      <td>13748</td>\n",
       "      <td>948.25</td>\n",
       "      <td>95.0</td>\n",
       "      <td>28.0</td>\n",
       "      <td>0.017921</td>\n",
       "      <td>0.0</td>\n",
       "      <td>7</td>\n",
       "    </tr>\n",
       "    <tr>\n",
       "      <th>4</th>\n",
       "      <td>15100</td>\n",
       "      <td>876.00</td>\n",
       "      <td>333.0</td>\n",
       "      <td>3.0</td>\n",
       "      <td>0.073171</td>\n",
       "      <td>22.0</td>\n",
       "      <td>1</td>\n",
       "    </tr>\n",
       "  </tbody>\n",
       "</table>\n",
       "</div>"
      ],
      "text/plain": [
       "   customer_id  gross_revenue  recency_days  qtde_products  frequency  qtde_returns  cluster\n",
       "0        17850        5391.21         372.0          297.0  17.000000          40.0        3\n",
       "1        13047        3232.59          56.0          171.0   0.028302          35.0        6\n",
       "2        12583        6705.38           2.0          232.0   0.040323          50.0        3\n",
       "3        13748         948.25          95.0           28.0   0.017921           0.0        7\n",
       "4        15100         876.00         333.0            3.0   0.073171          22.0        1"
      ]
     },
     "execution_count": 107,
     "metadata": {},
     "output_type": "execute_result"
    }
   ],
   "source": [
    "df92 = df4[ cols_selected_full ].copy()\n",
    "df92['cluster'] = labels\n",
    "df92.head()"
   ]
  },
  {
   "cell_type": "code",
   "execution_count": 108,
   "id": "1dc696ae",
   "metadata": {
    "ExecuteTime": {
     "end_time": "2022-09-27T12:18:07.489341Z",
     "start_time": "2022-09-27T12:18:07.424381Z"
    },
    "execution": {
     "iopub.execute_input": "2022-09-27T21:28:47.379699Z",
     "iopub.status.busy": "2022-09-27T21:28:47.379699Z",
     "iopub.status.idle": "2022-09-27T21:28:47.435846Z",
     "shell.execute_reply": "2022-09-27T21:28:47.434834Z"
    },
    "papermill": {
     "duration": 0.16208,
     "end_time": "2022-09-27T21:28:47.437839",
     "exception": false,
     "start_time": "2022-09-27T21:28:47.275759",
     "status": "completed"
    },
    "tags": []
   },
   "outputs": [
    {
     "data": {
      "text/html": [
       "<div>\n",
       "<style scoped>\n",
       "    .dataframe tbody tr th:only-of-type {\n",
       "        vertical-align: middle;\n",
       "    }\n",
       "\n",
       "    .dataframe tbody tr th {\n",
       "        vertical-align: top;\n",
       "    }\n",
       "\n",
       "    .dataframe thead th {\n",
       "        text-align: right;\n",
       "    }\n",
       "</style>\n",
       "<table border=\"1\" class=\"dataframe\">\n",
       "  <thead>\n",
       "    <tr style=\"text-align: right;\">\n",
       "      <th></th>\n",
       "      <th>cluster</th>\n",
       "      <th>customer_id</th>\n",
       "      <th>perc_customer</th>\n",
       "      <th>gross_revenue</th>\n",
       "      <th>recency_days</th>\n",
       "      <th>qtde_products</th>\n",
       "      <th>frequency</th>\n",
       "      <th>qtde_returns</th>\n",
       "    </tr>\n",
       "  </thead>\n",
       "  <tbody>\n",
       "    <tr>\n",
       "      <th>0</th>\n",
       "      <td>0</td>\n",
       "      <td>322</td>\n",
       "      <td>10.849057</td>\n",
       "      <td>971.025435</td>\n",
       "      <td>75.329193</td>\n",
       "      <td>37.462733</td>\n",
       "      <td>0.074586</td>\n",
       "      <td>6.571429</td>\n",
       "    </tr>\n",
       "    <tr>\n",
       "      <th>1</th>\n",
       "      <td>1</td>\n",
       "      <td>592</td>\n",
       "      <td>19.946092</td>\n",
       "      <td>553.770946</td>\n",
       "      <td>114.917230</td>\n",
       "      <td>14.167230</td>\n",
       "      <td>0.291256</td>\n",
       "      <td>6.538851</td>\n",
       "    </tr>\n",
       "    <tr>\n",
       "      <th>2</th>\n",
       "      <td>2</td>\n",
       "      <td>404</td>\n",
       "      <td>13.611860</td>\n",
       "      <td>1689.182401</td>\n",
       "      <td>54.801980</td>\n",
       "      <td>89.202970</td>\n",
       "      <td>0.050037</td>\n",
       "      <td>11.542079</td>\n",
       "    </tr>\n",
       "    <tr>\n",
       "      <th>3</th>\n",
       "      <td>3</td>\n",
       "      <td>468</td>\n",
       "      <td>15.768194</td>\n",
       "      <td>8836.136389</td>\n",
       "      <td>21.438034</td>\n",
       "      <td>424.134615</td>\n",
       "      <td>0.094571</td>\n",
       "      <td>149.271368</td>\n",
       "    </tr>\n",
       "    <tr>\n",
       "      <th>4</th>\n",
       "      <td>4</td>\n",
       "      <td>372</td>\n",
       "      <td>12.533693</td>\n",
       "      <td>1237.753145</td>\n",
       "      <td>61.282258</td>\n",
       "      <td>54.357527</td>\n",
       "      <td>0.043705</td>\n",
       "      <td>8.771505</td>\n",
       "    </tr>\n",
       "    <tr>\n",
       "      <th>5</th>\n",
       "      <td>5</td>\n",
       "      <td>490</td>\n",
       "      <td>16.509434</td>\n",
       "      <td>3003.979469</td>\n",
       "      <td>45.953061</td>\n",
       "      <td>120.928571</td>\n",
       "      <td>0.048122</td>\n",
       "      <td>25.244898</td>\n",
       "    </tr>\n",
       "    <tr>\n",
       "      <th>6</th>\n",
       "      <td>6</td>\n",
       "      <td>145</td>\n",
       "      <td>4.885445</td>\n",
       "      <td>3164.253379</td>\n",
       "      <td>34.427586</td>\n",
       "      <td>173.875862</td>\n",
       "      <td>0.060415</td>\n",
       "      <td>23.482759</td>\n",
       "    </tr>\n",
       "    <tr>\n",
       "      <th>7</th>\n",
       "      <td>7</td>\n",
       "      <td>175</td>\n",
       "      <td>5.896226</td>\n",
       "      <td>827.478286</td>\n",
       "      <td>92.022857</td>\n",
       "      <td>26.822857</td>\n",
       "      <td>0.161952</td>\n",
       "      <td>22.868571</td>\n",
       "    </tr>\n",
       "  </tbody>\n",
       "</table>\n",
       "</div>"
      ],
      "text/plain": [
       "   cluster  customer_id  perc_customer  gross_revenue  recency_days  qtde_products  frequency  qtde_returns\n",
       "0        0          322      10.849057     971.025435     75.329193      37.462733   0.074586      6.571429\n",
       "1        1          592      19.946092     553.770946    114.917230      14.167230   0.291256      6.538851\n",
       "2        2          404      13.611860    1689.182401     54.801980      89.202970   0.050037     11.542079\n",
       "3        3          468      15.768194    8836.136389     21.438034     424.134615   0.094571    149.271368\n",
       "4        4          372      12.533693    1237.753145     61.282258      54.357527   0.043705      8.771505\n",
       "5        5          490      16.509434    3003.979469     45.953061     120.928571   0.048122     25.244898\n",
       "6        6          145       4.885445    3164.253379     34.427586     173.875862   0.060415     23.482759\n",
       "7        7          175       5.896226     827.478286     92.022857      26.822857   0.161952     22.868571"
      ]
     },
     "execution_count": 108,
     "metadata": {},
     "output_type": "execute_result"
    }
   ],
   "source": [
    "# Number of customer\n",
    "df_cluster = df92[['customer_id', 'cluster']].groupby( 'cluster' ).count().reset_index()\n",
    "df_cluster['perc_customer'] = 100*( df_cluster['customer_id'] / df_cluster['customer_id'].sum() )\n",
    "\n",
    "# Avg Gross revenue\n",
    "df_avg_gross_revenue = df92[['gross_revenue', 'cluster']].groupby( 'cluster' ).mean().reset_index()\n",
    "df_cluster = pd.merge( df_cluster, df_avg_gross_revenue, how='inner', on='cluster' )\n",
    "\n",
    "# Avg recency days\n",
    "df_avg_recency_days = df92[['recency_days', 'cluster']].groupby( 'cluster' ).mean().reset_index()\n",
    "df_cluster = pd.merge( df_cluster, df_avg_recency_days, how='inner', on='cluster' )\n",
    "\n",
    "# Avg invoice_no\n",
    "df_qtde_products = df92[['qtde_products', 'cluster']].groupby( 'cluster' ).mean().reset_index()\n",
    "df_cluster = pd.merge( df_cluster, df_qtde_products, how='inner', on='cluster' )\n",
    "\n",
    "# Frequency\n",
    "df_frequency = df92[['frequency', 'cluster']].groupby( 'cluster' ).mean().reset_index()\n",
    "df_cluster = pd.merge( df_cluster, df_frequency, how='inner', on='cluster' )\n",
    "\n",
    "# Returns\n",
    "df_qtde_returns = df92[['qtde_returns', 'cluster']].groupby( 'cluster' ).mean().reset_index()\n",
    "df_cluster = pd.merge( df_cluster, df_qtde_returns, how='inner', on='cluster' )\n",
    "\n",
    "df_cluster"
   ]
  },
  {
   "cell_type": "code",
   "execution_count": 109,
   "id": "f5dfde11",
   "metadata": {
    "ExecuteTime": {
     "end_time": "2022-09-27T12:18:20.644090Z",
     "start_time": "2022-09-27T12:18:20.624102Z"
    },
    "execution": {
     "iopub.execute_input": "2022-09-27T21:28:47.645705Z",
     "iopub.status.busy": "2022-09-27T21:28:47.644704Z",
     "iopub.status.idle": "2022-09-27T21:28:47.654663Z",
     "shell.execute_reply": "2022-09-27T21:28:47.654663Z"
    },
    "papermill": {
     "duration": 0.116894,
     "end_time": "2022-09-27T21:28:47.657665",
     "exception": false,
     "start_time": "2022-09-27T21:28:47.540771",
     "status": "completed"
    },
    "tags": []
   },
   "outputs": [],
   "source": [
    "df92['cluster'] = df92['cluster'].map( {3: 'Insiders', 6:'More_Product', 5:'Spend_Money', 2:'Even_More_Products', 4:'Less_Days', 0:'Less_1k', 7:'Critical', 1:'More_Buy'} )"
   ]
  },
  {
   "cell_type": "code",
   "execution_count": 110,
   "id": "1c77a2ac",
   "metadata": {
    "ExecuteTime": {
     "end_time": "2022-09-27T12:18:21.812660Z",
     "start_time": "2022-09-27T12:18:21.792670Z"
    },
    "execution": {
     "iopub.execute_input": "2022-09-27T21:28:47.863593Z",
     "iopub.status.busy": "2022-09-27T21:28:47.863593Z",
     "iopub.status.idle": "2022-09-27T21:28:47.879582Z",
     "shell.execute_reply": "2022-09-27T21:28:47.878587Z"
    },
    "papermill": {
     "duration": 0.121926,
     "end_time": "2022-09-27T21:28:47.881581",
     "exception": false,
     "start_time": "2022-09-27T21:28:47.759655",
     "status": "completed"
    },
    "tags": []
   },
   "outputs": [
    {
     "data": {
      "text/html": [
       "<div>\n",
       "<style scoped>\n",
       "    .dataframe tbody tr th:only-of-type {\n",
       "        vertical-align: middle;\n",
       "    }\n",
       "\n",
       "    .dataframe tbody tr th {\n",
       "        vertical-align: top;\n",
       "    }\n",
       "\n",
       "    .dataframe thead th {\n",
       "        text-align: right;\n",
       "    }\n",
       "</style>\n",
       "<table border=\"1\" class=\"dataframe\">\n",
       "  <thead>\n",
       "    <tr style=\"text-align: right;\">\n",
       "      <th></th>\n",
       "      <th>customer_id</th>\n",
       "      <th>gross_revenue</th>\n",
       "      <th>recency_days</th>\n",
       "      <th>qtde_products</th>\n",
       "      <th>frequency</th>\n",
       "      <th>qtde_returns</th>\n",
       "      <th>cluster</th>\n",
       "    </tr>\n",
       "  </thead>\n",
       "  <tbody>\n",
       "    <tr>\n",
       "      <th>0</th>\n",
       "      <td>17850</td>\n",
       "      <td>5391.21</td>\n",
       "      <td>372.0</td>\n",
       "      <td>297.0</td>\n",
       "      <td>17.000000</td>\n",
       "      <td>40.0</td>\n",
       "      <td>Insiders</td>\n",
       "    </tr>\n",
       "    <tr>\n",
       "      <th>1</th>\n",
       "      <td>13047</td>\n",
       "      <td>3232.59</td>\n",
       "      <td>56.0</td>\n",
       "      <td>171.0</td>\n",
       "      <td>0.028302</td>\n",
       "      <td>35.0</td>\n",
       "      <td>More_Product</td>\n",
       "    </tr>\n",
       "    <tr>\n",
       "      <th>2</th>\n",
       "      <td>12583</td>\n",
       "      <td>6705.38</td>\n",
       "      <td>2.0</td>\n",
       "      <td>232.0</td>\n",
       "      <td>0.040323</td>\n",
       "      <td>50.0</td>\n",
       "      <td>Insiders</td>\n",
       "    </tr>\n",
       "    <tr>\n",
       "      <th>3</th>\n",
       "      <td>13748</td>\n",
       "      <td>948.25</td>\n",
       "      <td>95.0</td>\n",
       "      <td>28.0</td>\n",
       "      <td>0.017921</td>\n",
       "      <td>0.0</td>\n",
       "      <td>Critical</td>\n",
       "    </tr>\n",
       "    <tr>\n",
       "      <th>4</th>\n",
       "      <td>15100</td>\n",
       "      <td>876.00</td>\n",
       "      <td>333.0</td>\n",
       "      <td>3.0</td>\n",
       "      <td>0.073171</td>\n",
       "      <td>22.0</td>\n",
       "      <td>More_Buy</td>\n",
       "    </tr>\n",
       "  </tbody>\n",
       "</table>\n",
       "</div>"
      ],
      "text/plain": [
       "   customer_id  gross_revenue  recency_days  qtde_products  frequency  qtde_returns       cluster\n",
       "0        17850        5391.21         372.0          297.0  17.000000          40.0      Insiders\n",
       "1        13047        3232.59          56.0          171.0   0.028302          35.0  More_Product\n",
       "2        12583        6705.38           2.0          232.0   0.040323          50.0      Insiders\n",
       "3        13748         948.25          95.0           28.0   0.017921           0.0      Critical\n",
       "4        15100         876.00         333.0            3.0   0.073171          22.0      More_Buy"
      ]
     },
     "execution_count": 110,
     "metadata": {},
     "output_type": "execute_result"
    }
   ],
   "source": [
    "df92.head()"
   ]
  },
  {
   "cell_type": "code",
   "execution_count": 1,
   "id": "097e12d6",
   "metadata": {
    "ExecuteTime": {
     "end_time": "2022-09-27T22:48:06.549033Z",
     "start_time": "2022-09-27T22:48:05.731544Z"
    },
    "execution": {
     "iopub.execute_input": "2022-09-27T21:28:48.087451Z",
     "iopub.status.busy": "2022-09-27T21:28:48.086451Z",
     "iopub.status.idle": "2022-09-27T21:28:48.099459Z",
     "shell.execute_reply": "2022-09-27T21:28:48.098463Z"
    },
    "papermill": {
     "duration": 0.11894,
     "end_time": "2022-09-27T21:28:48.101457",
     "exception": false,
     "start_time": "2022-09-27T21:28:47.982517",
     "status": "completed"
    },
    "tags": []
   },
   "outputs": [
    {
     "ename": "NameError",
     "evalue": "name 'df_cluster' is not defined",
     "output_type": "error",
     "traceback": [
      "\u001b[1;31m---------------------------------------------------------------------------\u001b[0m",
      "\u001b[1;31mNameError\u001b[0m                                 Traceback (most recent call last)",
      "Input \u001b[1;32mIn [1]\u001b[0m, in \u001b[0;36m<cell line: 1>\u001b[1;34m()\u001b[0m\n\u001b[1;32m----> 1\u001b[0m \u001b[38;5;28;01mfor\u001b[39;00m i \u001b[38;5;129;01min\u001b[39;00m \u001b[38;5;28mrange\u001b[39m(\u001b[38;5;28mlen\u001b[39m(\u001b[43mdf_cluster\u001b[49m[\u001b[38;5;124m'\u001b[39m\u001b[38;5;124mcustomer_id\u001b[39m\u001b[38;5;124m'\u001b[39m])):\n\u001b[0;32m      2\u001b[0m     \u001b[38;5;28mprint\u001b[39m(\u001b[38;5;124mf\u001b[39m\u001b[38;5;124m\"\"\"\u001b[39m\u001b[38;5;124m Cluster \u001b[39m\u001b[38;5;132;01m{\u001b[39;00mdf_cluster[\u001b[38;5;124m'\u001b[39m\u001b[38;5;124mcluster\u001b[39m\u001b[38;5;124m'\u001b[39m][i]\u001b[38;5;132;01m}\u001b[39;00m\u001b[38;5;124m:\u001b[39m\n\u001b[0;32m      3\u001b[0m \u001b[38;5;124m    -Number of customers: \u001b[39m\u001b[38;5;132;01m{\u001b[39;00mdf_cluster[\u001b[38;5;124m'\u001b[39m\u001b[38;5;124mcustomer_id\u001b[39m\u001b[38;5;124m'\u001b[39m][i]\u001b[38;5;132;01m}\u001b[39;00m\u001b[38;5;124m (\u001b[39m\u001b[38;5;132;01m{\u001b[39;00m\u001b[38;5;28mround\u001b[39m(df_cluster[\u001b[38;5;124m'\u001b[39m\u001b[38;5;124mperc_customer\u001b[39m\u001b[38;5;124m'\u001b[39m][i])\u001b[38;5;132;01m}\u001b[39;00m\u001b[38;5;124m%)\u001b[39m\n\u001b[0;32m      4\u001b[0m \u001b[38;5;124m    -Average revenue: $\u001b[39m\u001b[38;5;132;01m{\u001b[39;00m\u001b[38;5;28mround\u001b[39m(df_cluster[\u001b[38;5;124m'\u001b[39m\u001b[38;5;124mgross_revenue\u001b[39m\u001b[38;5;124m'\u001b[39m][i])\u001b[38;5;132;01m}\u001b[39;00m\n\u001b[1;32m   (...)\u001b[0m\n\u001b[0;32m      7\u001b[0m \u001b[38;5;124m    -Average purchases/month: \u001b[39m\u001b[38;5;132;01m{\u001b[39;00m\u001b[38;5;28mround\u001b[39m((df_cluster[\u001b[38;5;124m'\u001b[39m\u001b[38;5;124mfrequency\u001b[39m\u001b[38;5;124m'\u001b[39m][i])\u001b[38;5;241m*\u001b[39m\u001b[38;5;241m30\u001b[39m ,\u001b[38;5;241m1\u001b[39m)\u001b[38;5;132;01m}\u001b[39;00m\u001b[38;5;124m \u001b[39m\n\u001b[0;32m      8\u001b[0m \u001b[38;5;124m    -Average total products returned: \u001b[39m\u001b[38;5;132;01m{\u001b[39;00m\u001b[38;5;28mround\u001b[39m(df_cluster[\u001b[38;5;124m'\u001b[39m\u001b[38;5;124mqtde_returns\u001b[39m\u001b[38;5;124m'\u001b[39m][i])\u001b[38;5;132;01m}\u001b[39;00m\u001b[38;5;124m \u001b[39m\u001b[38;5;124m\"\"\"\u001b[39m)\n",
      "\u001b[1;31mNameError\u001b[0m: name 'df_cluster' is not defined"
     ]
    }
   ],
   "source": [
    "for i in range(len(df_cluster['customer_id'])):\n",
    "    print(f\"\"\" Cluster {df_cluster['cluster'][i]}:\n",
    "    -Number of customers: {df_cluster['customer_id'][i]} ({round(df_cluster['perc_customer'][i])}%)\n",
    "    -Average revenue: ${round(df_cluster['gross_revenue'][i])}\n",
    "    -Average recency: by each {round(df_cluster['recency_days'][i])} days ({round(df_cluster['recency_days'][i]/7)} week(s))\n",
    "    -Average unique products purchased: {round(df_cluster['qtde_products'][i])}  \n",
    "    -Average purchases/month: {round((df_cluster['frequency'][i])*30 ,1)} \n",
    "    -Average total products returned: {round(df_cluster['qtde_returns'][i])} \"\"\")"
   ]
  },
  {
   "cell_type": "markdown",
   "id": "d4673738",
   "metadata": {
    "papermill": {
     "duration": 0.103935,
     "end_time": "2022-09-27T21:28:48.309326",
     "exception": false,
     "start_time": "2022-09-27T21:28:48.205391",
     "status": "completed"
    },
    "tags": []
   },
   "source": [
    "Cluster 01\n",
    "- Número de customers: 255 (13,91% do customers )\n",
    "- Recência em média: 20.26 dias\n",
    "- Compras em média: 451 produtos\n",
    "- Receita em média: $9742.35 dólares"
   ]
  },
  {
   "cell_type": "markdown",
   "id": "13803ec7",
   "metadata": {
    "papermill": {
     "duration": 0.101935,
     "end_time": "2022-09-27T21:28:48.514195",
     "exception": false,
     "start_time": "2022-09-27T21:28:48.412260",
     "status": "completed"
    },
    "tags": []
   },
   "source": [
    "Cluster 02\n",
    "- Número de customers: 31 (0.71 do customers )\n",
    "- Recência em média: 14 dias\n",
    "- Compras em média: 53 compras\n",
    "- Receita em média: $40.543,52 dólares"
   ]
  },
  {
   "cell_type": "markdown",
   "id": "ec704a42",
   "metadata": {
    "papermill": {
     "duration": 0.101933,
     "end_time": "2022-09-27T21:28:48.720060",
     "exception": false,
     "start_time": "2022-09-27T21:28:48.618127",
     "status": "completed"
    },
    "tags": []
   },
   "source": [
    "Cluster 03\n",
    "- Número de customers: 4.335 (99% do customers )\n",
    "- Recência em média: 92 dias\n",
    "- Compras em média: 5 compras\n",
    "- Receita em média: $1.372,57 dólares"
   ]
  },
  {
   "cell_type": "markdown",
   "id": "d6fc8af0",
   "metadata": {
    "papermill": {
     "duration": 0.101934,
     "end_time": "2022-09-27T21:28:48.924928",
     "exception": false,
     "start_time": "2022-09-27T21:28:48.822994",
     "status": "completed"
    },
    "tags": []
   },
   "source": [
    "# 10.0 Model to Production"
   ]
  },
  {
   "cell_type": "code",
   "execution_count": 112,
   "id": "d966db62",
   "metadata": {
    "ExecuteTime": {
     "end_time": "2022-09-27T12:18:29.419858Z",
     "start_time": "2022-09-27T12:18:29.408863Z"
    },
    "execution": {
     "iopub.execute_input": "2022-09-27T21:28:49.132795Z",
     "iopub.status.busy": "2022-09-27T21:28:49.131796Z",
     "iopub.status.idle": "2022-09-27T21:28:49.139839Z",
     "shell.execute_reply": "2022-09-27T21:28:49.139839Z"
    },
    "papermill": {
     "duration": 0.115976,
     "end_time": "2022-09-27T21:28:49.142841",
     "exception": false,
     "start_time": "2022-09-27T21:28:49.026865",
     "status": "completed"
    },
    "tags": []
   },
   "outputs": [],
   "source": [
    "df10 = df92.copy()"
   ]
  },
  {
   "cell_type": "code",
   "execution_count": 113,
   "id": "ff5ff18c",
   "metadata": {
    "ExecuteTime": {
     "end_time": "2022-09-27T12:18:29.828836Z",
     "start_time": "2022-09-27T12:18:29.810845Z"
    },
    "execution": {
     "iopub.execute_input": "2022-09-27T21:28:49.350536Z",
     "iopub.status.busy": "2022-09-27T21:28:49.349538Z",
     "iopub.status.idle": "2022-09-27T21:28:49.377666Z",
     "shell.execute_reply": "2022-09-27T21:28:49.376660Z"
    },
    "papermill": {
     "duration": 0.134065,
     "end_time": "2022-09-27T21:28:49.379665",
     "exception": false,
     "start_time": "2022-09-27T21:28:49.245600",
     "status": "completed"
    },
    "tags": []
   },
   "outputs": [
    {
     "data": {
      "text/html": [
       "<div>\n",
       "<style scoped>\n",
       "    .dataframe tbody tr th:only-of-type {\n",
       "        vertical-align: middle;\n",
       "    }\n",
       "\n",
       "    .dataframe tbody tr th {\n",
       "        vertical-align: top;\n",
       "    }\n",
       "\n",
       "    .dataframe thead th {\n",
       "        text-align: right;\n",
       "    }\n",
       "</style>\n",
       "<table border=\"1\" class=\"dataframe\">\n",
       "  <thead>\n",
       "    <tr style=\"text-align: right;\">\n",
       "      <th></th>\n",
       "      <th>customer_id</th>\n",
       "      <th>gross_revenue</th>\n",
       "      <th>recency_days</th>\n",
       "      <th>qtde_products</th>\n",
       "      <th>frequency</th>\n",
       "      <th>qtde_returns</th>\n",
       "      <th>cluster</th>\n",
       "    </tr>\n",
       "  </thead>\n",
       "  <tbody>\n",
       "    <tr>\n",
       "      <th>0</th>\n",
       "      <td>17850</td>\n",
       "      <td>5391.21</td>\n",
       "      <td>372.0</td>\n",
       "      <td>297.0</td>\n",
       "      <td>17.000000</td>\n",
       "      <td>40.0</td>\n",
       "      <td>Insiders</td>\n",
       "    </tr>\n",
       "    <tr>\n",
       "      <th>1</th>\n",
       "      <td>13047</td>\n",
       "      <td>3232.59</td>\n",
       "      <td>56.0</td>\n",
       "      <td>171.0</td>\n",
       "      <td>0.028302</td>\n",
       "      <td>35.0</td>\n",
       "      <td>More_Product</td>\n",
       "    </tr>\n",
       "    <tr>\n",
       "      <th>2</th>\n",
       "      <td>12583</td>\n",
       "      <td>6705.38</td>\n",
       "      <td>2.0</td>\n",
       "      <td>232.0</td>\n",
       "      <td>0.040323</td>\n",
       "      <td>50.0</td>\n",
       "      <td>Insiders</td>\n",
       "    </tr>\n",
       "    <tr>\n",
       "      <th>3</th>\n",
       "      <td>13748</td>\n",
       "      <td>948.25</td>\n",
       "      <td>95.0</td>\n",
       "      <td>28.0</td>\n",
       "      <td>0.017921</td>\n",
       "      <td>0.0</td>\n",
       "      <td>Critical</td>\n",
       "    </tr>\n",
       "    <tr>\n",
       "      <th>4</th>\n",
       "      <td>15100</td>\n",
       "      <td>876.00</td>\n",
       "      <td>333.0</td>\n",
       "      <td>3.0</td>\n",
       "      <td>0.073171</td>\n",
       "      <td>22.0</td>\n",
       "      <td>More_Buy</td>\n",
       "    </tr>\n",
       "  </tbody>\n",
       "</table>\n",
       "</div>"
      ],
      "text/plain": [
       "   customer_id  gross_revenue  recency_days  qtde_products  frequency  qtde_returns       cluster\n",
       "0        17850        5391.21         372.0          297.0  17.000000          40.0      Insiders\n",
       "1        13047        3232.59          56.0          171.0   0.028302          35.0  More_Product\n",
       "2        12583        6705.38           2.0          232.0   0.040323          50.0      Insiders\n",
       "3        13748         948.25          95.0           28.0   0.017921           0.0      Critical\n",
       "4        15100         876.00         333.0            3.0   0.073171          22.0      More_Buy"
      ]
     },
     "execution_count": 113,
     "metadata": {},
     "output_type": "execute_result"
    }
   ],
   "source": [
    "df10.head()"
   ]
  },
  {
   "cell_type": "markdown",
   "id": "7987cc2b",
   "metadata": {
    "papermill": {
     "duration": null,
     "end_time": null,
     "exception": null,
     "start_time": null,
     "status": "pending"
    },
    "tags": []
   },
   "source": [
    "# 11.0 Deploy to procution"
   ]
  },
  {
   "cell_type": "code",
   "execution_count": null,
   "id": "45abf4dc",
   "metadata": {
    "ExecuteTime": {
     "end_time": "2022-09-27T12:36:57.044519Z",
     "start_time": "2022-09-27T12:36:57.037522Z"
    },
    "papermill": {
     "duration": null,
     "end_time": null,
     "exception": null,
     "start_time": null,
     "status": "pending"
    },
    "tags": []
   },
   "outputs": [],
   "source": [
    "import sqlite3\n",
    "from sqlalchemy import create_engine"
   ]
  },
  {
   "cell_type": "code",
   "execution_count": null,
   "id": "f22ad5b4",
   "metadata": {
    "ExecuteTime": {
     "end_time": "2022-09-27T12:36:57.547518Z",
     "start_time": "2022-09-27T12:36:57.532529Z"
    },
    "papermill": {
     "duration": null,
     "end_time": null,
     "exception": null,
     "start_time": null,
     "status": "pending"
    },
    "tags": []
   },
   "outputs": [],
   "source": [
    "df10.dtypes"
   ]
  },
  {
   "cell_type": "code",
   "execution_count": null,
   "id": "2cc6af5f",
   "metadata": {
    "ExecuteTime": {
     "end_time": "2022-09-27T12:18:38.972056Z",
     "start_time": "2022-09-27T12:18:38.953066Z"
    },
    "papermill": {
     "duration": null,
     "end_time": null,
     "exception": null,
     "start_time": null,
     "status": "pending"
    },
    "tags": []
   },
   "outputs": [],
   "source": [
    "df10['recency_days'] = df92['recency_days'].astype( 'int64' )\n",
    "df10['qtde_products'] = df92['qtde_products'].astype( 'int64' )\n",
    "df10['qtde_returns'] = df92['qtde_returns'].astype( 'int64' )"
   ]
  },
  {
   "cell_type": "code",
   "execution_count": null,
   "id": "e7e3cbec",
   "metadata": {
    "ExecuteTime": {
     "end_time": "2022-09-27T12:37:08.859545Z",
     "start_time": "2022-09-27T12:37:08.821568Z"
    },
    "papermill": {
     "duration": null,
     "end_time": null,
     "exception": null,
     "start_time": null,
     "status": "pending"
    },
    "tags": []
   },
   "outputs": [],
   "source": [
    "conn = sqlite3.connect( 'insiders_db.sqlite' )\n",
    "conn.commit()"
   ]
  },
  {
   "cell_type": "code",
   "execution_count": null,
   "id": "56602c0a",
   "metadata": {
    "ExecuteTime": {
     "end_time": "2022-09-27T12:37:14.216687Z",
     "start_time": "2022-09-27T12:37:14.197698Z"
    },
    "papermill": {
     "duration": null,
     "end_time": null,
     "exception": null,
     "start_time": null,
     "status": "pending"
    },
    "tags": []
   },
   "outputs": [],
   "source": [
    "#check if table exists on sqlite\n",
    "check_table = \"\"\"\n",
    "    SELECT name FROM sqlite_master WHERE type='table' AND name='insiders';\n",
    "\"\"\"\n",
    "df_check = pd.read_sql_query(check_table, conn)\n",
    "#create table if does not exist\n",
    "if len(df_check) == 0:  #0 = table does not exist, 1 = table exists\n",
    "    query_create_table_insiders = \"\"\"\n",
    "    CREATE TABLE insiders (\n",
    "        customer_id              INTEGER,\n",
    "        gross_revenue            REAL,\n",
    "        recency_days             INTEGER,\n",
    "        qtde_products            INTEGER,\n",
    "        frequency                REAL,\n",
    "        qtde_returns             INTEGER,\n",
    "        cluster                  INTEGER\n",
    "    )\"\"\"\n",
    "    conn.execute( query_create_table_insiders )\n",
    "    print('Table insiders was created!')\n",
    "else:\n",
    "    print('Table insiders exists!')"
   ]
  },
  {
   "cell_type": "code",
   "execution_count": null,
   "id": "aab6c193",
   "metadata": {
    "ExecuteTime": {
     "end_time": "2022-09-27T12:37:58.625320Z",
     "start_time": "2022-09-27T12:37:58.590342Z"
    },
    "papermill": {
     "duration": null,
     "end_time": null,
     "exception": null,
     "start_time": null,
     "status": "pending"
    },
    "tags": []
   },
   "outputs": [],
   "source": [
    "df10.to_sql('insiders', con=conn, if_exists='append', index=False )"
   ]
  },
  {
   "cell_type": "code",
   "execution_count": null,
   "id": "57eb6c76",
   "metadata": {
    "ExecuteTime": {
     "end_time": "2022-09-27T12:38:19.825494Z",
     "start_time": "2022-09-27T12:38:19.790514Z"
    },
    "papermill": {
     "duration": null,
     "end_time": null,
     "exception": null,
     "start_time": null,
     "status": "pending"
    },
    "tags": []
   },
   "outputs": [],
   "source": [
    "# consulting database\n",
    "query = \"\"\"\n",
    "    SELECT * FROM insiders \n",
    "\"\"\"\n",
    "\n",
    "df = pd.read_sql_query( query, conn )"
   ]
  },
  {
   "cell_type": "code",
   "execution_count": null,
   "id": "2392c047",
   "metadata": {
    "ExecuteTime": {
     "end_time": "2022-09-27T12:38:22.760661Z",
     "start_time": "2022-09-27T12:38:22.733679Z"
    },
    "papermill": {
     "duration": null,
     "end_time": null,
     "exception": null,
     "start_time": null,
     "status": "pending"
    },
    "tags": []
   },
   "outputs": [],
   "source": [
    "df.head()"
   ]
  },
  {
   "cell_type": "code",
   "execution_count": null,
   "id": "c56b8713",
   "metadata": {
    "papermill": {
     "duration": null,
     "end_time": null,
     "exception": null,
     "start_time": null,
     "status": "pending"
    },
    "tags": []
   },
   "outputs": [],
   "source": [
    "conn.close()"
   ]
  }
 ],
 "metadata": {
  "hide_input": false,
  "kernelspec": {
   "display_name": "Python 3 (ipykernel)",
   "language": "python",
   "name": "python3"
  },
  "language_info": {
   "codemirror_mode": {
    "name": "ipython",
    "version": 3
   },
   "file_extension": ".py",
   "mimetype": "text/x-python",
   "name": "python",
   "nbconvert_exporter": "python",
   "pygments_lexer": "ipython3",
   "version": "3.8.13"
  },
  "papermill": {
   "default_parameters": {},
   "duration": 316.016731,
   "end_time": "2022-09-27T21:28:57.063201",
   "environment_variables": {},
   "exception": true,
   "input_path": "reports\\c9.0.cmaq-Deploy.ipynb",
   "output_path": "reports\\c9.0.cmaq-Deploy.ipynb",
   "parameters": {},
   "start_time": "2022-09-27T21:23:41.046470",
   "version": "2.4.0"
  }
 },
 "nbformat": 4,
 "nbformat_minor": 5
}
